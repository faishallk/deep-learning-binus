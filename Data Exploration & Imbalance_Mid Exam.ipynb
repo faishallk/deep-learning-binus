{
  "cells": [
    {
      "cell_type": "markdown",
      "metadata": {
        "id": "hKaEicGWi-2n"
      },
      "source": [
        "Name      : Faishal Kamil<br>\n",
        "Student ID: 2502001063<br>\n",
        "Course    : Deep Learning<br>\n",
        "Mid Exam\n",
        "----"
      ]
    },
    {
      "cell_type": "markdown",
      "metadata": {
        "id": "IB6DAf_iNmKW"
      },
      "source": [
        "# **Import Libraries**\n",
        "\n",
        "---\n",
        "\n"
      ]
    },
    {
      "cell_type": "code",
      "execution_count": null,
      "metadata": {
        "id": "0LheR246NBsh"
      },
      "outputs": [],
      "source": [
        "import os\n",
        "import random\n",
        "import numpy as np\n",
        "import pandas as pd\n",
        "import tensorflow as tf\n",
        "from tensorflow import keras\n",
        "from sklearn.model_selection import train_test_split\n",
        "from sklearn.metrics import classification_report, accuracy_score\n",
        "from imblearn.over_sampling import RandomOverSampler\n",
        "from sklearn.model_selection import GridSearchCV\n",
        "from sklearn.preprocessing import StandardScaler"
      ]
    },
    {
      "cell_type": "markdown",
      "metadata": {
        "id": "3tQfz7MJ5J_S"
      },
      "source": [
        "# **Add seed**\n",
        "---\n",
        "Seed digunakan untuk menghasilkan angka acak (random) yang sama setiap kali program dijalankan\n",
        "\n"
      ]
    },
    {
      "cell_type": "code",
      "execution_count": null,
      "metadata": {
        "id": "ADfhldaj5N7z"
      },
      "outputs": [],
      "source": [
        "SEED = 42\n",
        "os.environ['PYTHONHASHSEED']=str(SEED)\n",
        "os.environ['TF_CUDNN_DETERMINISTIC'] = '1'\n",
        "random.seed(SEED)\n",
        "np.random.seed(SEED)\n",
        "tf.random.set_seed(SEED)"
      ]
    },
    {
      "cell_type": "markdown",
      "metadata": {
        "id": "r8OJDG4WNvNe"
      },
      "source": [
        "# **Load dataset**\n",
        "\n",
        "---\n",
        "\n"
      ]
    },
    {
      "cell_type": "markdown",
      "metadata": {
        "id": "8zG0MsCOy1P_"
      },
      "source": [
        "**About Dataset** <br>\n",
        "\n",
        "**age** : age of policyholder<br>\n",
        "**sex**: gender of policy holder (female=0, male=1)<br>\n",
        "**bmi**: Body mass index, providing an understanding of body, weights that are relatively high or low relative to height, objective index of body weight (kg / m ^ 2) using the ratio of height to weight, ideally 18.5 to 25<br>\n",
        "**steps**: average walking steps per day of policyholder<br>\n",
        "**children**: number of children / dependents of policyholder<br>\n",
        "**smoker**: smoking state of policyholder (non-smoke=0;smoker=1)<br>\n",
        "**region**: the residential area of policyholder in the US (northeast=0, northwest=1, southeast=2, southwest=3)<br>\n",
        "**charges**: individual medical costs billed by health insurance<br>\n",
        "**insuranceclaim**: yes=1, no=0<br>\n"
      ]
    },
    {
      "cell_type": "code",
      "execution_count": null,
      "metadata": {
        "id": "I9MzZWp3NezK"
      },
      "outputs": [],
      "source": [
        "df=pd.read_csv('/content/insurance.csv')"
      ]
    },
    {
      "cell_type": "markdown",
      "metadata": {
        "id": "9KInv1qMN8vg"
      },
      "source": [
        "# **Preprocessing data**\n",
        "\n",
        "---\n",
        "praproses data untuk menyelesaikan problem dari data tersebut\n",
        "\n"
      ]
    },
    {
      "cell_type": "code",
      "execution_count": null,
      "metadata": {
        "colab": {
          "base_uri": "https://localhost:8080/",
          "height": 206
        },
        "id": "0ZsQ3BjrNg8d",
        "outputId": "666ac84e-4f41-4371-b186-66a26aee96c5"
      },
      "outputs": [
        {
          "data": {
            "text/html": [
              "\n",
              "  <div id=\"df-e8b5f0eb-79e4-4e9c-830c-4d36a0d7ab22\">\n",
              "    <div class=\"colab-df-container\">\n",
              "      <div>\n",
              "<style scoped>\n",
              "    .dataframe tbody tr th:only-of-type {\n",
              "        vertical-align: middle;\n",
              "    }\n",
              "\n",
              "    .dataframe tbody tr th {\n",
              "        vertical-align: top;\n",
              "    }\n",
              "\n",
              "    .dataframe thead th {\n",
              "        text-align: right;\n",
              "    }\n",
              "</style>\n",
              "<table border=\"1\" class=\"dataframe\">\n",
              "  <thead>\n",
              "    <tr style=\"text-align: right;\">\n",
              "      <th></th>\n",
              "      <th>age</th>\n",
              "      <th>sex</th>\n",
              "      <th>bmi</th>\n",
              "      <th>steps</th>\n",
              "      <th>children</th>\n",
              "      <th>smoker</th>\n",
              "      <th>region</th>\n",
              "      <th>charges</th>\n",
              "      <th>insuranceclaim</th>\n",
              "    </tr>\n",
              "  </thead>\n",
              "  <tbody>\n",
              "    <tr>\n",
              "      <th>0</th>\n",
              "      <td>19</td>\n",
              "      <td>0</td>\n",
              "      <td>27.900</td>\n",
              "      <td>3009</td>\n",
              "      <td>0</td>\n",
              "      <td>1</td>\n",
              "      <td>3</td>\n",
              "      <td>16884.92400</td>\n",
              "      <td>1</td>\n",
              "    </tr>\n",
              "    <tr>\n",
              "      <th>1</th>\n",
              "      <td>18</td>\n",
              "      <td>1</td>\n",
              "      <td>33.770</td>\n",
              "      <td>3008</td>\n",
              "      <td>1</td>\n",
              "      <td>0</td>\n",
              "      <td>2</td>\n",
              "      <td>1725.55230</td>\n",
              "      <td>1</td>\n",
              "    </tr>\n",
              "    <tr>\n",
              "      <th>2</th>\n",
              "      <td>28</td>\n",
              "      <td>1</td>\n",
              "      <td>33.000</td>\n",
              "      <td>3009</td>\n",
              "      <td>3</td>\n",
              "      <td>0</td>\n",
              "      <td>2</td>\n",
              "      <td>4449.46200</td>\n",
              "      <td>0</td>\n",
              "    </tr>\n",
              "    <tr>\n",
              "      <th>3</th>\n",
              "      <td>33</td>\n",
              "      <td>1</td>\n",
              "      <td>22.705</td>\n",
              "      <td>10009</td>\n",
              "      <td>0</td>\n",
              "      <td>0</td>\n",
              "      <td>1</td>\n",
              "      <td>21984.47061</td>\n",
              "      <td>0</td>\n",
              "    </tr>\n",
              "    <tr>\n",
              "      <th>4</th>\n",
              "      <td>32</td>\n",
              "      <td>1</td>\n",
              "      <td>28.880</td>\n",
              "      <td>8010</td>\n",
              "      <td>0</td>\n",
              "      <td>0</td>\n",
              "      <td>1</td>\n",
              "      <td>3866.85520</td>\n",
              "      <td>1</td>\n",
              "    </tr>\n",
              "  </tbody>\n",
              "</table>\n",
              "</div>\n",
              "      <button class=\"colab-df-convert\" onclick=\"convertToInteractive('df-e8b5f0eb-79e4-4e9c-830c-4d36a0d7ab22')\"\n",
              "              title=\"Convert this dataframe to an interactive table.\"\n",
              "              style=\"display:none;\">\n",
              "        \n",
              "  <svg xmlns=\"http://www.w3.org/2000/svg\" height=\"24px\"viewBox=\"0 0 24 24\"\n",
              "       width=\"24px\">\n",
              "    <path d=\"M0 0h24v24H0V0z\" fill=\"none\"/>\n",
              "    <path d=\"M18.56 5.44l.94 2.06.94-2.06 2.06-.94-2.06-.94-.94-2.06-.94 2.06-2.06.94zm-11 1L8.5 8.5l.94-2.06 2.06-.94-2.06-.94L8.5 2.5l-.94 2.06-2.06.94zm10 10l.94 2.06.94-2.06 2.06-.94-2.06-.94-.94-2.06-.94 2.06-2.06.94z\"/><path d=\"M17.41 7.96l-1.37-1.37c-.4-.4-.92-.59-1.43-.59-.52 0-1.04.2-1.43.59L10.3 9.45l-7.72 7.72c-.78.78-.78 2.05 0 2.83L4 21.41c.39.39.9.59 1.41.59.51 0 1.02-.2 1.41-.59l7.78-7.78 2.81-2.81c.8-.78.8-2.07 0-2.86zM5.41 20L4 18.59l7.72-7.72 1.47 1.35L5.41 20z\"/>\n",
              "  </svg>\n",
              "      </button>\n",
              "      \n",
              "  <style>\n",
              "    .colab-df-container {\n",
              "      display:flex;\n",
              "      flex-wrap:wrap;\n",
              "      gap: 12px;\n",
              "    }\n",
              "\n",
              "    .colab-df-convert {\n",
              "      background-color: #E8F0FE;\n",
              "      border: none;\n",
              "      border-radius: 50%;\n",
              "      cursor: pointer;\n",
              "      display: none;\n",
              "      fill: #1967D2;\n",
              "      height: 32px;\n",
              "      padding: 0 0 0 0;\n",
              "      width: 32px;\n",
              "    }\n",
              "\n",
              "    .colab-df-convert:hover {\n",
              "      background-color: #E2EBFA;\n",
              "      box-shadow: 0px 1px 2px rgba(60, 64, 67, 0.3), 0px 1px 3px 1px rgba(60, 64, 67, 0.15);\n",
              "      fill: #174EA6;\n",
              "    }\n",
              "\n",
              "    [theme=dark] .colab-df-convert {\n",
              "      background-color: #3B4455;\n",
              "      fill: #D2E3FC;\n",
              "    }\n",
              "\n",
              "    [theme=dark] .colab-df-convert:hover {\n",
              "      background-color: #434B5C;\n",
              "      box-shadow: 0px 1px 3px 1px rgba(0, 0, 0, 0.15);\n",
              "      filter: drop-shadow(0px 1px 2px rgba(0, 0, 0, 0.3));\n",
              "      fill: #FFFFFF;\n",
              "    }\n",
              "  </style>\n",
              "\n",
              "      <script>\n",
              "        const buttonEl =\n",
              "          document.querySelector('#df-e8b5f0eb-79e4-4e9c-830c-4d36a0d7ab22 button.colab-df-convert');\n",
              "        buttonEl.style.display =\n",
              "          google.colab.kernel.accessAllowed ? 'block' : 'none';\n",
              "\n",
              "        async function convertToInteractive(key) {\n",
              "          const element = document.querySelector('#df-e8b5f0eb-79e4-4e9c-830c-4d36a0d7ab22');\n",
              "          const dataTable =\n",
              "            await google.colab.kernel.invokeFunction('convertToInteractive',\n",
              "                                                     [key], {});\n",
              "          if (!dataTable) return;\n",
              "\n",
              "          const docLinkHtml = 'Like what you see? Visit the ' +\n",
              "            '<a target=\"_blank\" href=https://colab.research.google.com/notebooks/data_table.ipynb>data table notebook</a>'\n",
              "            + ' to learn more about interactive tables.';\n",
              "          element.innerHTML = '';\n",
              "          dataTable['output_type'] = 'display_data';\n",
              "          await google.colab.output.renderOutput(dataTable, element);\n",
              "          const docLink = document.createElement('div');\n",
              "          docLink.innerHTML = docLinkHtml;\n",
              "          element.appendChild(docLink);\n",
              "        }\n",
              "      </script>\n",
              "    </div>\n",
              "  </div>\n",
              "  "
            ],
            "text/plain": [
              "   age  sex     bmi  steps  children  smoker  region      charges  \\\n",
              "0   19    0  27.900   3009         0       1       3  16884.92400   \n",
              "1   18    1  33.770   3008         1       0       2   1725.55230   \n",
              "2   28    1  33.000   3009         3       0       2   4449.46200   \n",
              "3   33    1  22.705  10009         0       0       1  21984.47061   \n",
              "4   32    1  28.880   8010         0       0       1   3866.85520   \n",
              "\n",
              "   insuranceclaim  \n",
              "0               1  \n",
              "1               1  \n",
              "2               0  \n",
              "3               0  \n",
              "4               1  "
            ]
          },
          "execution_count": 4,
          "metadata": {},
          "output_type": "execute_result"
        }
      ],
      "source": [
        " df.head()"
      ]
    },
    {
      "cell_type": "code",
      "execution_count": null,
      "metadata": {
        "colab": {
          "base_uri": "https://localhost:8080/"
        },
        "id": "7SCsL77mNhhY",
        "outputId": "5acf1346-3e73-4611-9c6d-6dee523c3ba3"
      },
      "outputs": [
        {
          "name": "stdout",
          "output_type": "stream",
          "text": [
            "<class 'pandas.core.frame.DataFrame'>\n",
            "RangeIndex: 1338 entries, 0 to 1337\n",
            "Data columns (total 9 columns):\n",
            " #   Column          Non-Null Count  Dtype  \n",
            "---  ------          --------------  -----  \n",
            " 0   age             1338 non-null   int64  \n",
            " 1   sex             1338 non-null   int64  \n",
            " 2   bmi             1338 non-null   float64\n",
            " 3   steps           1338 non-null   int64  \n",
            " 4   children        1338 non-null   int64  \n",
            " 5   smoker          1338 non-null   int64  \n",
            " 6   region          1338 non-null   int64  \n",
            " 7   charges         1338 non-null   float64\n",
            " 8   insuranceclaim  1338 non-null   int64  \n",
            "dtypes: float64(2), int64(7)\n",
            "memory usage: 94.2 KB\n"
          ]
        }
      ],
      "source": [
        "df.info()"
      ]
    },
    {
      "cell_type": "markdown",
      "metadata": {
        "id": "WykdBlZpONKK"
      },
      "source": [
        "Berikutnya adalah mengecek apakah pada kolom 'age' memiliki nilai yang tidak sesuai, misalnya age dibawah 0?"
      ]
    },
    {
      "cell_type": "code",
      "execution_count": null,
      "metadata": {
        "colab": {
          "base_uri": "https://localhost:8080/"
        },
        "id": "A-RPLFwJNjXq",
        "outputId": "672b26b6-a1d6-4900-846c-35bf2c8b8870"
      },
      "outputs": [
        {
          "name": "stdout",
          "output_type": "stream",
          "text": [
            "18\n",
            "64\n"
          ]
        }
      ],
      "source": [
        "print(df['age'].min())\n",
        "print(df['age'].max())"
      ]
    },
    {
      "cell_type": "markdown",
      "metadata": {
        "id": "dfFGjxBxOfc0"
      },
      "source": [
        "Setelah cek kolom 'age' yang mana data tersebut tidak ada anomali data. Berikutnya adalah mengecek apakah kolom 'sex', 'smoker', 'region', dan 'insuranceclaim' memiliki nilai diluar dari nilai yang ditetapkan pada keterangan dataset?"
      ]
    },
    {
      "cell_type": "code",
      "execution_count": null,
      "metadata": {
        "colab": {
          "base_uri": "https://localhost:8080/"
        },
        "id": "nis_paglOvGf",
        "outputId": "52438e2a-1df2-4773-85ea-8299e147e51c"
      },
      "outputs": [
        {
          "name": "stdout",
          "output_type": "stream",
          "text": [
            "[0 1]\n",
            "[1 0]\n",
            "[3 2 1 0]\n",
            "[1 0]\n"
          ]
        }
      ],
      "source": [
        "print(df['sex'].unique()) # bernilai 0 atau 1\n",
        "print(df['smoker'].unique()) # bernilai 0 atau 1\n",
        "print(df['region'].unique()) # bernilai 0 atau 1 atau 2 atau 3\n",
        "print(df['insuranceclaim'].unique()) # bernilai 0 atau 1"
      ]
    },
    {
      "cell_type": "markdown",
      "metadata": {
        "id": "XK08YUrBOxuR"
      },
      "source": [
        "Berikutnya saya menggunakan standard scaler supaya variabel age, bmi, steps, dan charges memiliki skala yang sama. Melalui standarasasi model akan menilai dan memperhitungkan variabel dengan cara yang lebih seimbang."
      ]
    },
    {
      "cell_type": "code",
      "execution_count": null,
      "metadata": {
        "colab": {
          "base_uri": "https://localhost:8080/",
          "height": 206
        },
        "id": "ICCuFqzMOvuD",
        "outputId": "c5660a8a-9828-4882-e27e-1ae48d94e4fd"
      },
      "outputs": [
        {
          "data": {
            "text/html": [
              "\n",
              "  <div id=\"df-cbe73c76-2feb-4db5-bc70-2181d89b6626\">\n",
              "    <div class=\"colab-df-container\">\n",
              "      <div>\n",
              "<style scoped>\n",
              "    .dataframe tbody tr th:only-of-type {\n",
              "        vertical-align: middle;\n",
              "    }\n",
              "\n",
              "    .dataframe tbody tr th {\n",
              "        vertical-align: top;\n",
              "    }\n",
              "\n",
              "    .dataframe thead th {\n",
              "        text-align: right;\n",
              "    }\n",
              "</style>\n",
              "<table border=\"1\" class=\"dataframe\">\n",
              "  <thead>\n",
              "    <tr style=\"text-align: right;\">\n",
              "      <th></th>\n",
              "      <th>age</th>\n",
              "      <th>sex</th>\n",
              "      <th>bmi</th>\n",
              "      <th>steps</th>\n",
              "      <th>children</th>\n",
              "      <th>smoker</th>\n",
              "      <th>region</th>\n",
              "      <th>charges</th>\n",
              "      <th>insuranceclaim</th>\n",
              "    </tr>\n",
              "  </thead>\n",
              "  <tbody>\n",
              "    <tr>\n",
              "      <th>0</th>\n",
              "      <td>-1.438764</td>\n",
              "      <td>0</td>\n",
              "      <td>-0.453320</td>\n",
              "      <td>-0.945733</td>\n",
              "      <td>0</td>\n",
              "      <td>1</td>\n",
              "      <td>3</td>\n",
              "      <td>0.298584</td>\n",
              "      <td>1</td>\n",
              "    </tr>\n",
              "    <tr>\n",
              "      <th>1</th>\n",
              "      <td>-1.509965</td>\n",
              "      <td>1</td>\n",
              "      <td>0.509621</td>\n",
              "      <td>-0.946140</td>\n",
              "      <td>1</td>\n",
              "      <td>0</td>\n",
              "      <td>2</td>\n",
              "      <td>-0.953689</td>\n",
              "      <td>1</td>\n",
              "    </tr>\n",
              "    <tr>\n",
              "      <th>2</th>\n",
              "      <td>-0.797954</td>\n",
              "      <td>1</td>\n",
              "      <td>0.383307</td>\n",
              "      <td>-0.945733</td>\n",
              "      <td>3</td>\n",
              "      <td>0</td>\n",
              "      <td>2</td>\n",
              "      <td>-0.728675</td>\n",
              "      <td>0</td>\n",
              "    </tr>\n",
              "    <tr>\n",
              "      <th>3</th>\n",
              "      <td>-0.441948</td>\n",
              "      <td>1</td>\n",
              "      <td>-1.305531</td>\n",
              "      <td>1.908235</td>\n",
              "      <td>0</td>\n",
              "      <td>0</td>\n",
              "      <td>1</td>\n",
              "      <td>0.719843</td>\n",
              "      <td>0</td>\n",
              "    </tr>\n",
              "    <tr>\n",
              "      <th>4</th>\n",
              "      <td>-0.513149</td>\n",
              "      <td>1</td>\n",
              "      <td>-0.292556</td>\n",
              "      <td>1.093223</td>\n",
              "      <td>0</td>\n",
              "      <td>0</td>\n",
              "      <td>1</td>\n",
              "      <td>-0.776802</td>\n",
              "      <td>1</td>\n",
              "    </tr>\n",
              "  </tbody>\n",
              "</table>\n",
              "</div>\n",
              "      <button class=\"colab-df-convert\" onclick=\"convertToInteractive('df-cbe73c76-2feb-4db5-bc70-2181d89b6626')\"\n",
              "              title=\"Convert this dataframe to an interactive table.\"\n",
              "              style=\"display:none;\">\n",
              "        \n",
              "  <svg xmlns=\"http://www.w3.org/2000/svg\" height=\"24px\"viewBox=\"0 0 24 24\"\n",
              "       width=\"24px\">\n",
              "    <path d=\"M0 0h24v24H0V0z\" fill=\"none\"/>\n",
              "    <path d=\"M18.56 5.44l.94 2.06.94-2.06 2.06-.94-2.06-.94-.94-2.06-.94 2.06-2.06.94zm-11 1L8.5 8.5l.94-2.06 2.06-.94-2.06-.94L8.5 2.5l-.94 2.06-2.06.94zm10 10l.94 2.06.94-2.06 2.06-.94-2.06-.94-.94-2.06-.94 2.06-2.06.94z\"/><path d=\"M17.41 7.96l-1.37-1.37c-.4-.4-.92-.59-1.43-.59-.52 0-1.04.2-1.43.59L10.3 9.45l-7.72 7.72c-.78.78-.78 2.05 0 2.83L4 21.41c.39.39.9.59 1.41.59.51 0 1.02-.2 1.41-.59l7.78-7.78 2.81-2.81c.8-.78.8-2.07 0-2.86zM5.41 20L4 18.59l7.72-7.72 1.47 1.35L5.41 20z\"/>\n",
              "  </svg>\n",
              "      </button>\n",
              "      \n",
              "  <style>\n",
              "    .colab-df-container {\n",
              "      display:flex;\n",
              "      flex-wrap:wrap;\n",
              "      gap: 12px;\n",
              "    }\n",
              "\n",
              "    .colab-df-convert {\n",
              "      background-color: #E8F0FE;\n",
              "      border: none;\n",
              "      border-radius: 50%;\n",
              "      cursor: pointer;\n",
              "      display: none;\n",
              "      fill: #1967D2;\n",
              "      height: 32px;\n",
              "      padding: 0 0 0 0;\n",
              "      width: 32px;\n",
              "    }\n",
              "\n",
              "    .colab-df-convert:hover {\n",
              "      background-color: #E2EBFA;\n",
              "      box-shadow: 0px 1px 2px rgba(60, 64, 67, 0.3), 0px 1px 3px 1px rgba(60, 64, 67, 0.15);\n",
              "      fill: #174EA6;\n",
              "    }\n",
              "\n",
              "    [theme=dark] .colab-df-convert {\n",
              "      background-color: #3B4455;\n",
              "      fill: #D2E3FC;\n",
              "    }\n",
              "\n",
              "    [theme=dark] .colab-df-convert:hover {\n",
              "      background-color: #434B5C;\n",
              "      box-shadow: 0px 1px 3px 1px rgba(0, 0, 0, 0.15);\n",
              "      filter: drop-shadow(0px 1px 2px rgba(0, 0, 0, 0.3));\n",
              "      fill: #FFFFFF;\n",
              "    }\n",
              "  </style>\n",
              "\n",
              "      <script>\n",
              "        const buttonEl =\n",
              "          document.querySelector('#df-cbe73c76-2feb-4db5-bc70-2181d89b6626 button.colab-df-convert');\n",
              "        buttonEl.style.display =\n",
              "          google.colab.kernel.accessAllowed ? 'block' : 'none';\n",
              "\n",
              "        async function convertToInteractive(key) {\n",
              "          const element = document.querySelector('#df-cbe73c76-2feb-4db5-bc70-2181d89b6626');\n",
              "          const dataTable =\n",
              "            await google.colab.kernel.invokeFunction('convertToInteractive',\n",
              "                                                     [key], {});\n",
              "          if (!dataTable) return;\n",
              "\n",
              "          const docLinkHtml = 'Like what you see? Visit the ' +\n",
              "            '<a target=\"_blank\" href=https://colab.research.google.com/notebooks/data_table.ipynb>data table notebook</a>'\n",
              "            + ' to learn more about interactive tables.';\n",
              "          element.innerHTML = '';\n",
              "          dataTable['output_type'] = 'display_data';\n",
              "          await google.colab.output.renderOutput(dataTable, element);\n",
              "          const docLink = document.createElement('div');\n",
              "          docLink.innerHTML = docLinkHtml;\n",
              "          element.appendChild(docLink);\n",
              "        }\n",
              "      </script>\n",
              "    </div>\n",
              "  </div>\n",
              "  "
            ],
            "text/plain": [
              "        age  sex       bmi     steps  children  smoker  region   charges  \\\n",
              "0 -1.438764    0 -0.453320 -0.945733         0       1       3  0.298584   \n",
              "1 -1.509965    1  0.509621 -0.946140         1       0       2 -0.953689   \n",
              "2 -0.797954    1  0.383307 -0.945733         3       0       2 -0.728675   \n",
              "3 -0.441948    1 -1.305531  1.908235         0       0       1  0.719843   \n",
              "4 -0.513149    1 -0.292556  1.093223         0       0       1 -0.776802   \n",
              "\n",
              "   insuranceclaim  \n",
              "0               1  \n",
              "1               1  \n",
              "2               0  \n",
              "3               0  \n",
              "4               1  "
            ]
          },
          "execution_count": 8,
          "metadata": {},
          "output_type": "execute_result"
        }
      ],
      "source": [
        "copy = df[['age', 'bmi', 'steps', 'charges']]\n",
        "scaler = StandardScaler()\n",
        "scaled = scaler.fit_transform(copy)\n",
        "df[['age', 'bmi', 'steps', 'charges']] = scaled\n",
        "df.head()"
      ]
    },
    {
      "cell_type": "markdown",
      "metadata": {
        "id": "ZAo4fIpnPcjb"
      },
      "source": [
        "cek apakah class pada dataset imbalance"
      ]
    },
    {
      "cell_type": "code",
      "execution_count": null,
      "metadata": {
        "colab": {
          "base_uri": "https://localhost:8080/"
        },
        "id": "KxJft2abPgWV",
        "outputId": "efa5dc80-07c2-423d-d0f9-3233f33bd534"
      },
      "outputs": [
        {
          "name": "stdout",
          "output_type": "stream",
          "text": [
            "1    783\n",
            "0    555\n",
            "Name: insuranceclaim, dtype: int64\n"
          ]
        }
      ],
      "source": [
        "print(df['insuranceclaim'].value_counts())"
      ]
    },
    {
      "cell_type": "markdown",
      "metadata": {
        "id": "m-qiVel3PhBP"
      },
      "source": [
        "Ketika datanya imbalance, model akan cenderung memprediksi ke class yang lebih banyak jumlahnya dan dari hasil print diatas nilai dari insuranceclaim lebih banyak class 1 dibanding degan class 0. <br>Oleh karena itu, berikutnya saya akan melakukan oversampling supaya jumlah class 0 memiliki nilai yang sama dengan class 1. <br>  "
      ]
    },
    {
      "cell_type": "code",
      "execution_count": null,
      "metadata": {
        "colab": {
          "base_uri": "https://localhost:8080/"
        },
        "id": "WSTvinQjP0M3",
        "outputId": "f20fa59f-afcc-444f-c8bc-d8ec48cd1670"
      },
      "outputs": [
        {
          "name": "stdout",
          "output_type": "stream",
          "text": [
            "1    783\n",
            "0    783\n",
            "Name: insuranceclaim, dtype: int64\n"
          ]
        }
      ],
      "source": [
        "y = df['insuranceclaim']\n",
        "x = df.drop('insuranceclaim', axis=1)\n",
        "\n",
        "oversampler = RandomOverSampler(sampling_strategy='minority')\n",
        "xOver, yOver = oversampler.fit_resample(x, y)\n",
        "\n",
        "df = pd.concat([xOver, yOver], axis=1)\n",
        "print(df['insuranceclaim'].value_counts())"
      ]
    },
    {
      "cell_type": "markdown",
      "metadata": {
        "id": "DSy3nY94j9wx"
      },
      "source": [
        "Class 1 dan 0 pada kolom insuranceclaim sudah seimbang, maka kita lanjut ke step berikutnya yaitu eksplorasi data."
      ]
    },
    {
      "cell_type": "markdown",
      "metadata": {
        "id": "cB9zs5aEP9u9"
      },
      "source": [
        "# **Eksplorasi dataset**\n",
        "\n",
        "---\n",
        "\n"
      ]
    },
    {
      "cell_type": "markdown",
      "metadata": {
        "id": "URv2DshgQDC8"
      },
      "source": [
        "Step pertama pada proses eksplorasi data, saya melakukan distribusi data pada setiap kolom yang terdapat pada dataset ini."
      ]
    },
    {
      "cell_type": "code",
      "execution_count": null,
      "metadata": {
        "colab": {
          "base_uri": "https://localhost:8080/",
          "height": 838
        },
        "id": "JoL3_znuP9dr",
        "outputId": "11be70ed-5975-49bd-a907-dafb076f8506"
      },
      "outputs": [
        {
          "data": {
            "text/plain": [
              "array([[<Axes: title={'center': 'age'}>, <Axes: title={'center': 'sex'}>,\n",
              "        <Axes: title={'center': 'bmi'}>],\n",
              "       [<Axes: title={'center': 'steps'}>,\n",
              "        <Axes: title={'center': 'children'}>,\n",
              "        <Axes: title={'center': 'smoker'}>],\n",
              "       [<Axes: title={'center': 'region'}>,\n",
              "        <Axes: title={'center': 'charges'}>,\n",
              "        <Axes: title={'center': 'insuranceclaim'}>]], dtype=object)"
            ]
          },
          "execution_count": 18,
          "metadata": {},
          "output_type": "execute_result"
        },
        {
          "data": {
            "image/png": "[encoded data removed]",
            "text/plain": [
              "<Figure size 1000x800 with 9 Axes>"
            ]
          },
          "metadata": {},
          "output_type": "display_data"
        }
      ],
      "source": [
        "import matplotlib.pyplot as plt\n",
        "import seaborn as sns\n",
        "import pandas as pd\n",
        "import numpy as np\n",
        "df.hist(figsize=(10,8), color=\"#6a0dad\", layout=(3,3))\n"
      ]
    },
    {
      "cell_type": "code",
      "execution_count": null,
      "metadata": {
        "colab": {
          "base_uri": "https://localhost:8080/",
          "height": 636
        },
        "id": "Hf3gaLYSQgtj",
        "outputId": "5935e7ea-d9a9-4282-e2ac-15668a70c2dc"
      },
      "outputs": [
        {
          "data": {
            "image/png": "[encoded data removed]",
            "text/plain": [
              "<Figure size 800x600 with 1 Axes>"
            ]
          },
          "metadata": {},
          "output_type": "display_data"
        }
      ],
      "source": [
        "correlations = df.corr()['insuranceclaim'].sort_values(ascending=False)\n",
        "fig, ax = plt.subplots(figsize=(8,6))\n",
        "bars = ax.bar(correlations.index, correlations.values, color=['#BBDFFC', '#89CFF0', '#5E9FDF', '#3B6EA5', '#274F7D'])\n",
        "for i, bar in enumerate(bars):\n",
        "    if correlations.values[i] < 0:\n",
        "        bar.set_color('#FF3E4D')\n",
        "ax.tick_params(axis='x', rotation=90)\n",
        "ax.set_title(\"Korelasi Terhadap Insurance Claim\")\n",
        "plt.show()\n"
      ]
    },
    {
      "cell_type": "markdown",
      "metadata": {
        "id": "nWmP7Vo4QJHK"
      },
      "source": [
        "Berikutnya adalah melihat korelasi antara kolom yang lain dengan kolom insuranceclaim dan terdapat loop for untuk memeriksa nilai korelasi pada setiap bar. Jika nilai korelasi kurang dari 0, maka bar akan diubah menjadi warna merah. Hal ini dilakukan agar lebih mudah membedakan bar yang memiliki korelasi positif dan negatif."
      ]
    },
    {
      "cell_type": "markdown",
      "metadata": {
        "id": "E9qahUsmQtYv"
      },
      "source": [
        "# **Membagi dataset**\n",
        "\n",
        "---\n",
        "Memisahkan variabel dependent dan variabel independent serta membagi dataset menjadi 80% train, 10% validation, dan 10% test sesuai seperti yang ada di soal.\n"
      ]
    },
    {
      "cell_type": "code",
      "execution_count": null,
      "metadata": {
        "id": "WSRy3124Qtwp"
      },
      "outputs": [],
      "source": [
        "df_target= df[['insuranceclaim']]\n",
        "df_input= df[['age', 'sex', 'bmi', 'steps', 'children', 'smoker', 'region', 'charges']]\n",
        "\n",
        "x_train, x_remain, y_train, y_remain = train_test_split(df_input, df_target, test_size=0.2, random_state=42) # random_state=42 merupakan default dari seed\n",
        "x_val, x_test, y_val, y_test = train_test_split(x_remain, y_remain, test_size=0.5, random_state=42)"
      ]
    },
    {
      "cell_type": "markdown",
      "metadata": {
        "id": "oXnEK6fjQjaK"
      },
      "source": [
        "# **Arsitektur Awal**\n",
        "\n",
        "---\n",
        "langkah berikutnya adalah membuat arsitektur awal yang mana nantinya akan membandingkan beberapa model untuk mendapatkan nilai accurary yang terbaik\n"
      ]
    },
    {
      "cell_type": "code",
      "execution_count": null,
      "metadata": {
        "colab": {
          "base_uri": "https://localhost:8080/"
        },
        "id": "iKUV5PuFQpiQ",
        "outputId": "e5e7d457-07d5-4ebd-b840-a10ff42be583"
      },
      "outputs": [
        {
          "name": "stdout",
          "output_type": "stream",
          "text": [
            "Model: \"sequential_1\"\n",
            "_________________________________________________________________\n",
            " Layer (type)                Output Shape              Param #   \n",
            "=================================================================\n",
            " dense_3 (Dense)             (None, 16)                144       \n",
            "                                                                 \n",
            " dense_4 (Dense)             (None, 16)                272       \n",
            "                                                                 \n",
            " dense_5 (Dense)             (None, 2)                 34        \n",
            "                                                                 \n",
            "=================================================================\n",
            "Total params: 450\n",
            "Trainable params: 450\n",
            "Non-trainable params: 0\n",
            "_________________________________________________________________\n",
            "None\n"
          ]
        }
      ],
      "source": [
        "n = df_input.shape[1]\n",
        "num_class = 2\n",
        "hidden_size = 2 * n\n",
        "\n",
        "basemodel = tf.keras.Sequential()\n",
        "basemodel.add(tf.keras.layers.Input(shape=(n,)))\n",
        "basemodel.add(tf.keras.layers.Dense(hidden_size, activation='relu'))\n",
        "basemodel.add(tf.keras.layers.Dense(hidden_size, activation='relu'))\n",
        "basemodel.add(tf.keras.layers.Dense(num_class, activation='sigmoid'))     # menggunakan activation function jenis sigmoid\n",
        "basemodel.compile(optimizer='adam', loss='sparse_categorical_crossentropy', metrics='accuracy')\n",
        "print(basemodel.summary())"
      ]
    },
    {
      "cell_type": "code",
      "execution_count": null,
      "metadata": {
        "colab": {
          "base_uri": "https://localhost:8080/"
        },
        "id": "M2PuSk8iRIZi",
        "outputId": "c7847153-2a49-45ba-c7d1-f9d9dbba794e"
      },
      "outputs": [
        {
          "name": "stdout",
          "output_type": "stream",
          "text": [
            "Epoch 1/50\n",
            "40/40 - 1s - loss: 0.6142 - accuracy: 0.6741 - 1s/epoch - 26ms/step\n",
            "Epoch 2/50\n",
            "40/40 - 0s - loss: 0.5469 - accuracy: 0.7436 - 78ms/epoch - 2ms/step\n",
            "Epoch 3/50\n",
            "40/40 - 0s - loss: 0.4676 - accuracy: 0.7843 - 66ms/epoch - 2ms/step\n",
            "Epoch 4/50\n",
            "40/40 - 0s - loss: 0.4119 - accuracy: 0.8227 - 68ms/epoch - 2ms/step\n",
            "Epoch 5/50\n",
            "40/40 - 0s - loss: 0.3798 - accuracy: 0.8442 - 62ms/epoch - 2ms/step\n",
            "Epoch 6/50\n",
            "40/40 - 0s - loss: 0.3596 - accuracy: 0.8538 - 63ms/epoch - 2ms/step\n",
            "Epoch 7/50\n",
            "40/40 - 0s - loss: 0.3457 - accuracy: 0.8594 - 63ms/epoch - 2ms/step\n",
            "Epoch 8/50\n",
            "40/40 - 0s - loss: 0.3328 - accuracy: 0.8674 - 68ms/epoch - 2ms/step\n",
            "Epoch 9/50\n",
            "40/40 - 0s - loss: 0.3232 - accuracy: 0.8738 - 76ms/epoch - 2ms/step\n",
            "Epoch 10/50\n",
            "40/40 - 0s - loss: 0.3123 - accuracy: 0.8794 - 64ms/epoch - 2ms/step\n",
            "Epoch 11/50\n",
            "40/40 - 0s - loss: 0.3038 - accuracy: 0.8794 - 87ms/epoch - 2ms/step\n",
            "Epoch 12/50\n",
            "40/40 - 0s - loss: 0.2972 - accuracy: 0.8866 - 69ms/epoch - 2ms/step\n",
            "Epoch 13/50\n",
            "40/40 - 0s - loss: 0.2894 - accuracy: 0.8914 - 69ms/epoch - 2ms/step\n",
            "Epoch 14/50\n",
            "40/40 - 0s - loss: 0.2828 - accuracy: 0.8898 - 79ms/epoch - 2ms/step\n",
            "Epoch 15/50\n",
            "40/40 - 0s - loss: 0.2758 - accuracy: 0.8930 - 70ms/epoch - 2ms/step\n",
            "Epoch 16/50\n",
            "40/40 - 0s - loss: 0.2742 - accuracy: 0.8914 - 65ms/epoch - 2ms/step\n",
            "Epoch 17/50\n",
            "40/40 - 0s - loss: 0.2668 - accuracy: 0.8962 - 71ms/epoch - 2ms/step\n",
            "Epoch 18/50\n",
            "40/40 - 0s - loss: 0.2602 - accuracy: 0.8970 - 65ms/epoch - 2ms/step\n",
            "Epoch 19/50\n",
            "40/40 - 0s - loss: 0.2544 - accuracy: 0.8986 - 62ms/epoch - 2ms/step\n",
            "Epoch 20/50\n",
            "40/40 - 0s - loss: 0.2488 - accuracy: 0.9050 - 63ms/epoch - 2ms/step\n",
            "Epoch 21/50\n",
            "40/40 - 0s - loss: 0.2437 - accuracy: 0.9010 - 67ms/epoch - 2ms/step\n",
            "Epoch 22/50\n",
            "40/40 - 0s - loss: 0.2376 - accuracy: 0.9010 - 64ms/epoch - 2ms/step\n",
            "Epoch 23/50\n",
            "40/40 - 0s - loss: 0.2348 - accuracy: 0.9010 - 66ms/epoch - 2ms/step\n",
            "Epoch 24/50\n",
            "40/40 - 0s - loss: 0.2288 - accuracy: 0.9058 - 64ms/epoch - 2ms/step\n",
            "Epoch 25/50\n",
            "40/40 - 0s - loss: 0.2259 - accuracy: 0.9042 - 66ms/epoch - 2ms/step\n",
            "Epoch 26/50\n",
            "40/40 - 0s - loss: 0.2225 - accuracy: 0.9105 - 66ms/epoch - 2ms/step\n",
            "Epoch 27/50\n",
            "40/40 - 0s - loss: 0.2183 - accuracy: 0.9081 - 65ms/epoch - 2ms/step\n",
            "Epoch 28/50\n",
            "40/40 - 0s - loss: 0.2133 - accuracy: 0.9105 - 76ms/epoch - 2ms/step\n",
            "Epoch 29/50\n",
            "40/40 - 0s - loss: 0.2101 - accuracy: 0.9121 - 61ms/epoch - 2ms/step\n",
            "Epoch 30/50\n",
            "40/40 - 0s - loss: 0.2090 - accuracy: 0.9209 - 62ms/epoch - 2ms/step\n",
            "Epoch 31/50\n",
            "40/40 - 0s - loss: 0.2077 - accuracy: 0.9145 - 65ms/epoch - 2ms/step\n",
            "Epoch 32/50\n",
            "40/40 - 0s - loss: 0.2039 - accuracy: 0.9225 - 63ms/epoch - 2ms/step\n",
            "Epoch 33/50\n",
            "40/40 - 0s - loss: 0.1998 - accuracy: 0.9241 - 62ms/epoch - 2ms/step\n",
            "Epoch 34/50\n",
            "40/40 - 0s - loss: 0.1981 - accuracy: 0.9273 - 61ms/epoch - 2ms/step\n",
            "Epoch 35/50\n",
            "40/40 - 0s - loss: 0.1962 - accuracy: 0.9249 - 69ms/epoch - 2ms/step\n",
            "Epoch 36/50\n",
            "40/40 - 0s - loss: 0.1945 - accuracy: 0.9281 - 73ms/epoch - 2ms/step\n",
            "Epoch 37/50\n",
            "40/40 - 0s - loss: 0.1899 - accuracy: 0.9321 - 63ms/epoch - 2ms/step\n",
            "Epoch 38/50\n",
            "40/40 - 0s - loss: 0.1878 - accuracy: 0.9329 - 77ms/epoch - 2ms/step\n",
            "Epoch 39/50\n",
            "40/40 - 0s - loss: 0.1841 - accuracy: 0.9353 - 71ms/epoch - 2ms/step\n",
            "Epoch 40/50\n",
            "40/40 - 0s - loss: 0.1837 - accuracy: 0.9313 - 63ms/epoch - 2ms/step\n",
            "Epoch 41/50\n",
            "40/40 - 0s - loss: 0.1816 - accuracy: 0.9345 - 67ms/epoch - 2ms/step\n",
            "Epoch 42/50\n",
            "40/40 - 0s - loss: 0.1795 - accuracy: 0.9337 - 65ms/epoch - 2ms/step\n",
            "Epoch 43/50\n",
            "40/40 - 0s - loss: 0.1771 - accuracy: 0.9377 - 70ms/epoch - 2ms/step\n",
            "Epoch 44/50\n",
            "40/40 - 0s - loss: 0.1743 - accuracy: 0.9409 - 66ms/epoch - 2ms/step\n",
            "Epoch 45/50\n",
            "40/40 - 0s - loss: 0.1738 - accuracy: 0.9337 - 72ms/epoch - 2ms/step\n",
            "Epoch 46/50\n",
            "40/40 - 0s - loss: 0.1717 - accuracy: 0.9361 - 74ms/epoch - 2ms/step\n",
            "Epoch 47/50\n",
            "40/40 - 0s - loss: 0.1691 - accuracy: 0.9409 - 66ms/epoch - 2ms/step\n",
            "Epoch 48/50\n",
            "40/40 - 0s - loss: 0.1681 - accuracy: 0.9393 - 64ms/epoch - 2ms/step\n",
            "Epoch 49/50\n",
            "40/40 - 0s - loss: 0.1654 - accuracy: 0.9409 - 68ms/epoch - 2ms/step\n",
            "Epoch 50/50\n",
            "40/40 - 0s - loss: 0.1634 - accuracy: 0.9441 - 68ms/epoch - 2ms/step\n"
          ]
        }
      ],
      "source": [
        "history = basemodel.fit(x_train, y_train, epochs=50, verbose = 2)"
      ]
    },
    {
      "cell_type": "code",
      "execution_count": null,
      "metadata": {
        "colab": {
          "base_uri": "https://localhost:8080/"
        },
        "id": "a74cMUATROIs",
        "outputId": "4aa7214a-7e4a-4152-d899-755dfc92832c"
      },
      "outputs": [
        {
          "name": "stdout",
          "output_type": "stream",
          "text": [
            "5/5 [==============================] - 0s 3ms/step\n",
            "Accuracy basemodel terhadap data validation: 0.9171974522292994\n"
          ]
        }
      ],
      "source": [
        "y_pred = basemodel.predict(x_val)\n",
        "y_pred_classes = np.argmax(y_pred, axis=1)\n",
        "accuracy = accuracy_score(y_val, y_pred_classes)\n",
        "print(f'Accuracy basemodel terhadap data validation: {accuracy}')"
      ]
    },
    {
      "cell_type": "markdown",
      "metadata": {
        "id": "eUu7G2sLRpJU"
      },
      "source": [
        "# **Modifikasi Arsitektur**\n",
        "\n",
        "---\n",
        "\n"
      ]
    },
    {
      "cell_type": "markdown",
      "metadata": {
        "id": "66hoK-SBTA4Z"
      },
      "source": [
        "Di sini saya akan membuat beberapa model pada modifikasi arsitektur supaya mendapatkan accuracy yang terbaik dan membuat 5 model (model A, model B, model C, model D, dan model E degan mengubah hyperparameternya (hidden size dan learning rate) dan setiap hidden layer ketiga menggunakan activation function sigmoid.\n",
        "\n",
        "**1. Model A (hidden_size=2n, learning_rate=0.01)**"
      ]
    },
    {
      "cell_type": "code",
      "execution_count": null,
      "metadata": {
        "colab": {
          "base_uri": "https://localhost:8080/"
        },
        "id": "p5nVHzeBS_ns",
        "outputId": "286b7bf5-3a51-491e-a6ea-74908407c872"
      },
      "outputs": [
        {
          "name": "stdout",
          "output_type": "stream",
          "text": [
            "Model: \"sequential_7\"\n",
            "_________________________________________________________________\n",
            " Layer (type)                Output Shape              Param #   \n",
            "=================================================================\n",
            " dense_21 (Dense)            (None, 16)                144       \n",
            "                                                                 \n",
            " dense_22 (Dense)            (None, 16)                272       \n",
            "                                                                 \n",
            " dense_23 (Dense)            (None, 2)                 34        \n",
            "                                                                 \n",
            "=================================================================\n",
            "Total params: 450\n",
            "Trainable params: 450\n",
            "Non-trainable params: 0\n",
            "_________________________________________________________________\n",
            "None\n"
          ]
        }
      ],
      "source": [
        "hidden_size = 2 * n\n",
        "\n",
        "modelA = tf.keras.Sequential()\n",
        "modelA.add(tf.keras.layers.Input(shape=(n,)))\n",
        "modelA.add(tf.keras.layers.Dense(hidden_size, activation='relu'))\n",
        "modelA.add(tf.keras.layers.Dense(hidden_size, activation='relu'))\n",
        "modelA.add(tf.keras.layers.Dense(num_class, activation='sigmoid'))\n",
        "optimizer = tf.keras.optimizers.Adam(learning_rate=0.01)\n",
        "modelA.compile(optimizer=optimizer, loss='sparse_categorical_crossentropy', metrics='accuracy')\n",
        "print(modelA.summary())"
      ]
    },
    {
      "cell_type": "markdown",
      "metadata": {
        "id": "f0o4ZQhEqRQs"
      },
      "source": [
        "Note: <br>\n",
        "\n",
        "```\n",
        "loss='sparse_categorical_crossentropy'\n",
        "```\n",
        "Digunakan sebagai pengukur fungsi loss pada model yang memiliki lebih dari dua kelas. Fungsi loss ini umumnya digunakan untuk tugas klasifikasi multiclass di mana label output adalah bilangan bulat (integer), bukan dalam bentuk one-hot encoding."
      ]
    },
    {
      "cell_type": "code",
      "execution_count": null,
      "metadata": {
        "id": "BirZtr7wVUI-"
      },
      "outputs": [],
      "source": [
        "history = modelA.fit(x_train, y_train, epochs=50, verbose = 0)"
      ]
    },
    {
      "cell_type": "code",
      "execution_count": null,
      "metadata": {
        "colab": {
          "base_uri": "https://localhost:8080/"
        },
        "id": "O79BYRuWVXmq",
        "outputId": "2d9c585a-09b9-4fcb-ad11-8d7985a72f83"
      },
      "outputs": [
        {
          "name": "stdout",
          "output_type": "stream",
          "text": [
            "5/5 [==============================] - 0s 3ms/step\n",
            "Accuracy model A terhadap data validation: 0.9299363057324841\n"
          ]
        }
      ],
      "source": [
        "y_pred = modelA.predict(x_val)\n",
        "y_pred_classes = np.argmax(y_pred, axis=1)\n",
        "accuracy_A = accuracy_score(y_val, y_pred_classes)\n",
        "print(f'Accuracy model A terhadap data validation: {accuracy_A}')"
      ]
    },
    {
      "cell_type": "markdown",
      "metadata": {
        "id": "SHz0Q-tVTedx"
      },
      "source": [
        "**2. Model B (hidden_size=2n, learning_rate=0.1)**"
      ]
    },
    {
      "cell_type": "code",
      "execution_count": null,
      "metadata": {
        "colab": {
          "base_uri": "https://localhost:8080/"
        },
        "id": "5ZCr-3nLT1Uf",
        "outputId": "ada5783a-98b2-46d9-8b07-9a1215d6c4d1"
      },
      "outputs": [
        {
          "name": "stdout",
          "output_type": "stream",
          "text": [
            "Model: \"sequential_9\"\n",
            "_________________________________________________________________\n",
            " Layer (type)                Output Shape              Param #   \n",
            "=================================================================\n",
            " dense_27 (Dense)            (None, 16)                144       \n",
            "                                                                 \n",
            " dense_28 (Dense)            (None, 16)                272       \n",
            "                                                                 \n",
            " dense_29 (Dense)            (None, 2)                 34        \n",
            "                                                                 \n",
            "=================================================================\n",
            "Total params: 450\n",
            "Trainable params: 450\n",
            "Non-trainable params: 0\n",
            "_________________________________________________________________\n",
            "None\n"
          ]
        }
      ],
      "source": [
        "hidden_size = 2 * n\n",
        "\n",
        "modelB = tf.keras.Sequential()\n",
        "modelB.add(tf.keras.layers.Input(shape=(n,)))\n",
        "modelB.add(tf.keras.layers.Dense(hidden_size, activation='relu'))\n",
        "modelB.add(tf.keras.layers.Dense(hidden_size, activation='relu'))\n",
        "modelB.add(tf.keras.layers.Dense(num_class, activation='sigmoid'))\n",
        "optimizer = tf.keras.optimizers.Adam(learning_rate=0.1)\n",
        "modelB.compile(optimizer=optimizer, loss='sparse_categorical_crossentropy', metrics='accuracy')\n",
        "print(modelB.summary())"
      ]
    },
    {
      "cell_type": "code",
      "execution_count": null,
      "metadata": {
        "id": "RE8nLEiBWnfn"
      },
      "outputs": [],
      "source": [
        "history = modelB.fit(x_train, y_train, epochs=50, verbose = 0)"
      ]
    },
    {
      "cell_type": "code",
      "execution_count": null,
      "metadata": {
        "colab": {
          "base_uri": "https://localhost:8080/"
        },
        "id": "r9vhLQRQWpHm",
        "outputId": "542e2bf7-15a8-476e-bdf2-d2dc91dad72e"
      },
      "outputs": [
        {
          "name": "stdout",
          "output_type": "stream",
          "text": [
            "5/5 [==============================] - 0s 3ms/step\n",
            "Accuracy model B terhadap data validation: 0.8535031847133758\n"
          ]
        }
      ],
      "source": [
        "y_pred = modelB.predict(x_val)\n",
        "y_pred_classes = np.argmax(y_pred, axis=1)\n",
        "accuracy_B = accuracy_score(y_val, y_pred_classes)\n",
        "print(f'Accuracy model B terhadap data validation: {accuracy_B}')"
      ]
    },
    {
      "cell_type": "markdown",
      "metadata": {
        "id": "5_dRg-OLT1u_"
      },
      "source": [
        "**3. Model C (hidden_size=3n, learning_rate=0.01)**\n"
      ]
    },
    {
      "cell_type": "code",
      "execution_count": null,
      "metadata": {
        "colab": {
          "base_uri": "https://localhost:8080/"
        },
        "id": "SCSawDAET42W",
        "outputId": "beb93d82-ebb5-4142-949f-cf66ced9988e"
      },
      "outputs": [
        {
          "name": "stdout",
          "output_type": "stream",
          "text": [
            "Model: \"sequential_10\"\n",
            "_________________________________________________________________\n",
            " Layer (type)                Output Shape              Param #   \n",
            "=================================================================\n",
            " dense_30 (Dense)            (None, 24)                216       \n",
            "                                                                 \n",
            " dense_31 (Dense)            (None, 24)                600       \n",
            "                                                                 \n",
            " dense_32 (Dense)            (None, 2)                 50        \n",
            "                                                                 \n",
            "=================================================================\n",
            "Total params: 866\n",
            "Trainable params: 866\n",
            "Non-trainable params: 0\n",
            "_________________________________________________________________\n",
            "None\n"
          ]
        }
      ],
      "source": [
        "hidden_size = 3 * n\n",
        "\n",
        "modelC = tf.keras.Sequential()\n",
        "modelC.add(tf.keras.layers.Input(shape=(n,)))\n",
        "modelC.add(tf.keras.layers.Dense(hidden_size, activation='relu'))\n",
        "modelC.add(tf.keras.layers.Dense(hidden_size, activation='relu'))\n",
        "modelC.add(tf.keras.layers.Dense(num_class, activation='sigmoid'))\n",
        "optimizer = tf.keras.optimizers.Adam(learning_rate=0.01)\n",
        "modelC.compile(optimizer=optimizer, loss='sparse_categorical_crossentropy', metrics='accuracy')\n",
        "print(modelC.summary())"
      ]
    },
    {
      "cell_type": "code",
      "execution_count": null,
      "metadata": {
        "id": "9TJDJJDJXSH1"
      },
      "outputs": [],
      "source": [
        "history = modelC.fit(x_train, y_train, epochs=50, verbose = 0)"
      ]
    },
    {
      "cell_type": "code",
      "execution_count": null,
      "metadata": {
        "colab": {
          "base_uri": "https://localhost:8080/"
        },
        "id": "jdiXEdZhXTjM",
        "outputId": "c1bc3d4e-31d1-420a-ee85-bd0c5c2853d8"
      },
      "outputs": [
        {
          "name": "stdout",
          "output_type": "stream",
          "text": [
            "5/5 [==============================] - 0s 2ms/step\n",
            "Accuracy model C terhadap data validation: 0.9044585987261147\n"
          ]
        }
      ],
      "source": [
        "y_pred = modelC.predict(x_val)\n",
        "y_pred_classes = np.argmax(y_pred, axis=1)\n",
        "accuracy_C = accuracy_score(y_val, y_pred_classes)\n",
        "print(f'Accuracy model C terhadap data validation: {accuracy_C}')"
      ]
    },
    {
      "cell_type": "markdown",
      "metadata": {
        "id": "HY0U-5UqT5Rc"
      },
      "source": [
        "**4. Model D (hidden_size=4n, learning_rate=0.01)**"
      ]
    },
    {
      "cell_type": "code",
      "execution_count": null,
      "metadata": {
        "colab": {
          "base_uri": "https://localhost:8080/"
        },
        "id": "dBcn_nTfT7aa",
        "outputId": "90f960b8-9228-4180-badf-45d2c9c7f0b9"
      },
      "outputs": [
        {
          "name": "stdout",
          "output_type": "stream",
          "text": [
            "Model: \"sequential_11\"\n",
            "_________________________________________________________________\n",
            " Layer (type)                Output Shape              Param #   \n",
            "=================================================================\n",
            " dense_33 (Dense)            (None, 32)                288       \n",
            "                                                                 \n",
            " dense_34 (Dense)            (None, 32)                1056      \n",
            "                                                                 \n",
            " dense_35 (Dense)            (None, 2)                 66        \n",
            "                                                                 \n",
            "=================================================================\n",
            "Total params: 1,410\n",
            "Trainable params: 1,410\n",
            "Non-trainable params: 0\n",
            "_________________________________________________________________\n",
            "None\n"
          ]
        }
      ],
      "source": [
        "hidden_size = 4 * n\n",
        "\n",
        "modelD = tf.keras.Sequential()\n",
        "modelD.add(tf.keras.layers.Input(shape=(n,)))\n",
        "modelD.add(tf.keras.layers.Dense(hidden_size, activation='relu'))\n",
        "modelD.add(tf.keras.layers.Dense(hidden_size, activation='relu'))\n",
        "modelD.add(tf.keras.layers.Dense(num_class, activation='sigmoid'))\n",
        "optimizer = tf.keras.optimizers.Adam(learning_rate=0.01)\n",
        "modelD.compile(optimizer=optimizer, loss='sparse_categorical_crossentropy', metrics='accuracy')\n",
        "print(modelD.summary())"
      ]
    },
    {
      "cell_type": "code",
      "execution_count": null,
      "metadata": {
        "id": "HFwJA8RhXq59"
      },
      "outputs": [],
      "source": [
        "history = modelD.fit(x_train, y_train, epochs=50, verbose = 0)"
      ]
    },
    {
      "cell_type": "code",
      "execution_count": null,
      "metadata": {
        "colab": {
          "base_uri": "https://localhost:8080/"
        },
        "id": "xpuGQFWTXuDa",
        "outputId": "b64042a4-f0e7-4763-fb48-483f23f48f86"
      },
      "outputs": [
        {
          "name": "stdout",
          "output_type": "stream",
          "text": [
            "5/5 [==============================] - 0s 3ms/step\n",
            "Accuracy model D terhadap data validation: 0.9426751592356688\n"
          ]
        }
      ],
      "source": [
        "y_pred = modelD.predict(x_val)\n",
        "y_pred_classes = np.argmax(y_pred, axis=1)\n",
        "accuracy_D = accuracy_score(y_val, y_pred_classes)\n",
        "print(f'Accuracy model D terhadap data validation: {accuracy_D}')"
      ]
    },
    {
      "cell_type": "markdown",
      "metadata": {
        "id": "6WH3VU9AT7tP"
      },
      "source": [
        "**5. Model E (hidden_size=5n, learning_rate=0.01)**\n"
      ]
    },
    {
      "cell_type": "code",
      "execution_count": null,
      "metadata": {
        "colab": {
          "base_uri": "https://localhost:8080/"
        },
        "id": "eV-VE-IdT9wG",
        "outputId": "c7b9fb65-d880-4098-d2e0-edc4df76a27c"
      },
      "outputs": [
        {
          "name": "stdout",
          "output_type": "stream",
          "text": [
            "Model: \"sequential_12\"\n",
            "_________________________________________________________________\n",
            " Layer (type)                Output Shape              Param #   \n",
            "=================================================================\n",
            " dense_36 (Dense)            (None, 40)                360       \n",
            "                                                                 \n",
            " dense_37 (Dense)            (None, 40)                1640      \n",
            "                                                                 \n",
            " dense_38 (Dense)            (None, 2)                 82        \n",
            "                                                                 \n",
            "=================================================================\n",
            "Total params: 2,082\n",
            "Trainable params: 2,082\n",
            "Non-trainable params: 0\n",
            "_________________________________________________________________\n",
            "None\n"
          ]
        }
      ],
      "source": [
        "hidden_size = 5 * n\n",
        "\n",
        "modelE = tf.keras.Sequential()\n",
        "modelE.add(tf.keras.layers.Input(shape=(n,)))\n",
        "modelE.add(tf.keras.layers.Dense(hidden_size, activation='relu'))\n",
        "modelE.add(tf.keras.layers.Dense(hidden_size, activation='relu'))\n",
        "modelE.add(tf.keras.layers.Dense(num_class, activation='sigmoid'))\n",
        "optimizer = tf.keras.optimizers.Adam(learning_rate=0.01)\n",
        "modelE.compile(optimizer=optimizer, loss='sparse_categorical_crossentropy', metrics='accuracy')\n",
        "print(modelE.summary())"
      ]
    },
    {
      "cell_type": "code",
      "execution_count": null,
      "metadata": {
        "id": "vtmcrVa1YLHV"
      },
      "outputs": [],
      "source": [
        "history = modelE.fit(x_train, y_train, epochs=50, verbose = 0)"
      ]
    },
    {
      "cell_type": "code",
      "execution_count": null,
      "metadata": {
        "colab": {
          "base_uri": "https://localhost:8080/"
        },
        "id": "g7aYKTCoYOmK",
        "outputId": "4566cf20-3114-4d9f-f2e3-7346f78548ec"
      },
      "outputs": [
        {
          "name": "stdout",
          "output_type": "stream",
          "text": [
            "5/5 [==============================] - 0s 4ms/step\n",
            "Accuracy model E terhadap data validation: 0.9044585987261147\n"
          ]
        }
      ],
      "source": [
        "y_pred = modelE.predict(x_val)\n",
        "y_pred_classes = np.argmax(y_pred, axis=1)\n",
        "accuracy_E = accuracy_score(y_val, y_pred_classes)\n",
        "print(f'Accuracy model E terhadap data validation: {accuracy_E}')"
      ]
    },
    {
      "cell_type": "code",
      "execution_count": null,
      "metadata": {
        "colab": {
          "base_uri": "https://localhost:8080/"
        },
        "id": "1AVNPMIPULy0",
        "outputId": "886f8d2c-396d-46ca-d577-5807b7ffbaf7"
      },
      "outputs": [
        {
          "name": "stdout",
          "output_type": "stream",
          "text": [
            "Accuracy model A terhadap data validation: 0.9299363057324841\n",
            "Accuracy model B terhadap data validation: 0.8535031847133758\n",
            "Accuracy model C terhadap data validation: 0.9044585987261147\n",
            "Accuracy model D terhadap data validation: 0.9426751592356688\n",
            "Accuracy model E terhadap data validation: 0.9044585987261147\n"
          ]
        }
      ],
      "source": [
        "print(f'Accuracy model A terhadap data validation: {accuracy_A}')\n",
        "print(f'Accuracy model B terhadap data validation: {accuracy_B}')\n",
        "print(f'Accuracy model C terhadap data validation: {accuracy_C}')\n",
        "print(f'Accuracy model D terhadap data validation: {accuracy_D}')\n",
        "print(f'Accuracy model E terhadap data validation: {accuracy_E}')"
      ]
    },
    {
      "cell_type": "markdown",
      "metadata": {
        "id": "4lHJQx4x_vqK"
      },
      "source": [
        "**Choose model D as the first best_model**"
      ]
    },
    {
      "cell_type": "code",
      "execution_count": null,
      "metadata": {
        "id": "4T3I-mVjAB8r"
      },
      "outputs": [],
      "source": [
        "best_model1 = modelD"
      ]
    },
    {
      "cell_type": "markdown",
      "metadata": {
        "id": "JI35uTmRgPia"
      },
      "source": [
        "**Setelah mendapatkan model D sebagai best model, maka berikutnya mencari best model ke- 2 sebagai perbandingan model menggunakan nested loop**"
      ]
    },
    {
      "cell_type": "code",
      "execution_count": null,
      "metadata": {
        "colab": {
          "base_uri": "https://localhost:8080/"
        },
        "id": "eXUxFV8JgTrF",
        "outputId": "9e56d3c9-d48c-4376-a136-421f0507b923"
      },
      "outputs": [
        {
          "name": "stdout",
          "output_type": "stream",
          "text": [
            "5/5 [==============================] - 0s 3ms/step\n",
            "5/5 [==============================] - 0s 3ms/step\n",
            "5/5 [==============================] - 0s 3ms/step\n",
            "5/5 [==============================] - 0s 3ms/step\n",
            "5/5 [==============================] - 0s 3ms/step\n",
            "5/5 [==============================] - 0s 3ms/step\n",
            "5/5 [==============================] - 0s 3ms/step\n",
            "5/5 [==============================] - 0s 3ms/step\n",
            "5/5 [==============================] - 0s 5ms/step\n",
            "5/5 [==============================] - 0s 3ms/step\n",
            "5/5 [==============================] - 0s 3ms/step\n",
            "5/5 [==============================] - 0s 3ms/step\n",
            "\n",
            "Best Hyperparameters: hidden_size=40, learning_rate=0.01, accuracy=0.9426751592356688\n"
          ]
        }
      ],
      "source": [
        "from sklearn.metrics import accuracy_score\n",
        "#pada param_grid, saya akan mencoba dengan mengubah hyperparameter hidden size dan learning rate mana yang menghasilkan accuracy terbaik\n",
        "param_grid = {'hidden_size': [2*n, 3*n, 4*n, 5*n],\n",
        "              'learning_rate': [0.001, 0.01, 0.1]}\n",
        "\n",
        "def create_model(hidden_size, learning_rate):\n",
        "    model = tf.keras.Sequential()\n",
        "    model.add(tf.keras.layers.Input(shape=(n,)))\n",
        "    model.add(tf.keras.layers.Dense(hidden_size, activation='relu'))\n",
        "    model.add(tf.keras.layers.Dense(hidden_size, activation='relu'))\n",
        "    model.add(tf.keras.layers.Dense(num_class, activation='sigmoid')) # saya menggunakan activation sigmoid\n",
        "    optimizer = tf.keras.optimizers.Adam(learning_rate=learning_rate)\n",
        "    model.compile(optimizer=optimizer, loss='sparse_categorical_crossentropy', metrics='accuracy')\n",
        "    return model\n",
        "\n",
        "best_accuracy = 0\n",
        "best_hidden_size = 0\n",
        "best_learning_rate = 0\n",
        "best_model2 = 0\n",
        "for hidden_size in param_grid['hidden_size']:\n",
        "    for learning_rate in param_grid['learning_rate']:\n",
        "        SEED = 42                                       #sisipkan seed\n",
        "        os.environ['PYTHONHASHSEED']=str(SEED)\n",
        "        os.environ['TF_CUDNN_DETERMINISTIC'] = '1'\n",
        "        random.seed(SEED)\n",
        "        np.random.seed(SEED)\n",
        "        tf.random.set_seed(SEED)\n",
        "\n",
        "        model = create_model(hidden_size=hidden_size, learning_rate=learning_rate)\n",
        "        model.fit(x_train, y_train, epochs=50, verbose=0)\n",
        "        y_pred = model.predict(x_val)\n",
        "        y_pred_classes = np.argmax(y_pred, axis=1)\n",
        "        accuracy = accuracy_score(y_val, y_pred_classes)\n",
        "        if accuracy > best_accuracy:\n",
        "            best_accuracy = accuracy\n",
        "            best_hidden_size = hidden_size\n",
        "            best_learning_rate = learning_rate\n",
        "            best_model2 = model\n",
        "\n",
        "print(f'\\nBest Hyperparameters: hidden_size={best_hidden_size}, learning_rate={best_learning_rate}, accuracy={best_accuracy}')"
      ]
    },
    {
      "cell_type": "markdown",
      "metadata": {
        "id": "ZikjsZfog3dp"
      },
      "source": [
        "Sehingga diketahui dengan code di atas, bahwa best hyperparameternya adalah dengan hidden size=40 dan learning rate=0.01"
      ]
    },
    {
      "cell_type": "markdown",
      "metadata": {
        "id": "FZAYrEMnSewC"
      },
      "source": [
        "# **Classification Report**\n",
        "\n",
        "---\n",
        "\n"
      ]
    },
    {
      "cell_type": "markdown",
      "metadata": {
        "id": "kRpcxzKX6TQg"
      },
      "source": [
        "**- Base Model**"
      ]
    },
    {
      "cell_type": "code",
      "execution_count": null,
      "metadata": {
        "colab": {
          "base_uri": "https://localhost:8080/"
        },
        "id": "HF4YbBT4SOrf",
        "outputId": "0024bd78-ac52-4c0f-81c4-ae72612a3519"
      },
      "outputs": [
        {
          "name": "stdout",
          "output_type": "stream",
          "text": [
            "5/5 [==============================] - 0s 3ms/step\n",
            "Classification Report basemodel terhadap data test:\n",
            "              precision    recall  f1-score   support\n",
            "\n",
            "           0       0.86      0.95      0.90        76\n",
            "           1       0.95      0.85      0.90        81\n",
            "\n",
            "    accuracy                           0.90       157\n",
            "   macro avg       0.90      0.90      0.90       157\n",
            "weighted avg       0.90      0.90      0.90       157\n",
            "\n"
          ]
        }
      ],
      "source": [
        "y_pred = basemodel.predict(x_test)\n",
        "y_pred_classes = np.argmax(y_pred, axis=1)\n",
        "print('Classification Report basemodel terhadap data test:')\n",
        "print(classification_report(y_test, y_pred_classes))"
      ]
    },
    {
      "cell_type": "markdown",
      "metadata": {
        "id": "sJDtNwh86kwz"
      },
      "source": [
        "**- Best Model 1 (Model D)**"
      ]
    },
    {
      "cell_type": "code",
      "execution_count": null,
      "metadata": {
        "colab": {
          "base_uri": "https://localhost:8080/"
        },
        "id": "PYd__PxyazY2",
        "outputId": "22160712-76fb-413e-b45f-cb7f40508fc8"
      },
      "outputs": [
        {
          "name": "stdout",
          "output_type": "stream",
          "text": [
            "5/5 [==============================] - 0s 3ms/step\n",
            "Classification Report best_model 1 terhadap data test:\n",
            "              precision    recall  f1-score   support\n",
            "\n",
            "           0       0.91      0.97      0.94        76\n",
            "           1       0.97      0.91      0.94        81\n",
            "\n",
            "    accuracy                           0.94       157\n",
            "   macro avg       0.94      0.94      0.94       157\n",
            "weighted avg       0.94      0.94      0.94       157\n",
            "\n"
          ]
        }
      ],
      "source": [
        "y_pred = best_model1.predict(x_test)\n",
        "y_pred_classes = np.argmax(y_pred, axis=1)\n",
        "print('Classification Report best_model 1 terhadap data test:')\n",
        "print(classification_report(y_test, y_pred_classes))"
      ]
    },
    {
      "cell_type": "markdown",
      "metadata": {
        "id": "mnvcH4PR6ndM"
      },
      "source": [
        "**- Best Model 2 (using nested loop)**"
      ]
    },
    {
      "cell_type": "code",
      "execution_count": null,
      "metadata": {
        "colab": {
          "base_uri": "https://localhost:8080/"
        },
        "id": "05uR6Qt3SpKx",
        "outputId": "02ec594c-6fa8-4e79-bce3-81da9e71f1a7"
      },
      "outputs": [
        {
          "name": "stdout",
          "output_type": "stream",
          "text": [
            "5/5 [==============================] - 0s 3ms/step\n",
            "Classification Report best model 2 terhadap data test:\n",
            "              precision    recall  f1-score   support\n",
            "\n",
            "           0       0.96      0.97      0.97        76\n",
            "           1       0.97      0.96      0.97        81\n",
            "\n",
            "    accuracy                           0.97       157\n",
            "   macro avg       0.97      0.97      0.97       157\n",
            "weighted avg       0.97      0.97      0.97       157\n",
            "\n"
          ]
        }
      ],
      "source": [
        "y_pred = best_model2.predict(x_test)\n",
        "y_pred_classes = np.argmax(y_pred, axis=1)\n",
        "print('Classification Report best model 2 terhadap data test:')\n",
        "print(classification_report(y_test, y_pred_classes))"
      ]
    }
  ],
  "metadata": {
    "colab": {
      "provenance": []
    },
    "kernelspec": {
      "display_name": "Python 3",
      "name": "python3"
    },
    "language_info": {
      "name": "python"
    }
  },
  "nbformat": 4,
  "nbformat_minor": 0
}
