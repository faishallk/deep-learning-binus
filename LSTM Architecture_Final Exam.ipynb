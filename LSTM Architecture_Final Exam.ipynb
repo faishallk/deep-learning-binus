{
  "cells": [
    {
      "cell_type": "markdown",
      "metadata": {
        "id": "crt5bf8_iOZQ"
      },
      "source": [
        "Nama: Faishal Kamil<br>\n",
        "NIM: 2502001063<br>\n",
        "Course: Deep Learning\n"
      ]
    },
    {
      "cell_type": "markdown",
      "metadata": {
        "id": "i7ta2dX2ihc9"
      },
      "source": [
        "## **Problem Statement**\n",
        "----\n",
        "Dalam dataset yang disediakan terdapat informasi penting mengenai keterangan setiap kolomnya. Yang akan digunakan kolom Date dan Close saja. Buatlah arsitektur Long Short Term Memory (LSTM). Berikut adalah ketentuan yang perlu diperhatikan dalam pembuatan arsitektur LSTM. <br>\n",
        "\n",
        "a. Lakukan eksplorasi data terlebih dahulu untuk memahami permasalahan yang dihadapi terlebih dahulu. Dataset yang diberikan adalah data time series, lakukan praproses data untuk menyelesaikan problem dari data tersebut. Pisahkan data time series tersebut menjadi dua bagian input dan output dengan window size = 5 [dari hari senin s.d\n",
        "jumat] dan horizon = 1 hari senin saja. Selanjutnya pisahkan dataset menjadi train, test dan validation set dengan ketentuan (80% train, 10% val, 10% test) <br>\n",
        "\n",
        "b. Buatlah arsitektur baseline dengan LSTM (units=50) dan layer akhir berupa node Perceptron dengan units=1. Activation function untuk LSTM menggunakan ReLU\n",
        "\n",
        "c. Setelah mengetahui hasil dari nomor (1c), modifikasi arsitektur pada nomor 1c untuk mendapatkan unjuk kerja yang optimal (kalian dapat\n",
        "menambahkan atau mengurangi arsitektur tersebut, atau mengganti hyperparameter, atau menggunakan tuning pada hyperparameter). Jelaskan alasan kalian untuk menggunakan pendekatan yang kalian pilih.\n",
        "\n",
        "d. Lakukan evaluasi unjuk kerja kedua arsitektur di atas pada test set dengan mencari nilai RMSE, MAE dan MAPE. Dan berikan penjelasan mengenai hasilnya dengan rinci.\n",
        "\n",
        "e. Buatlah video presentasi yang menjelaskan arsitektur yang dibangun untuk mengklasifikasikan sebuah klaim ini."
      ]
    },
    {
      "cell_type": "markdown",
      "metadata": {
        "id": "fDM27yCtkOyp"
      },
      "source": [
        "Pada problem ini saya menggunakan indeks saham INTC"
      ]
    },
    {
      "cell_type": "markdown",
      "metadata": {
        "id": "E-S-vrPIkfwD"
      },
      "source": [
        "## 1a Dataset Exploration"
      ]
    },
    {
      "cell_type": "code",
      "execution_count": null,
      "metadata": {
        "id": "2G6FO3A4fofW"
      },
      "outputs": [],
      "source": [
        "import pandas as pd\n",
        "import numpy as np\n",
        "import matplotlib.pyplot as plt\n",
        "from sklearn.model_selection import train_test_split\n",
        "from tensorflow.keras.models import Sequential\n",
        "from tensorflow.keras.layers import LSTM, Dense\n",
        "from sklearn.preprocessing import MinMaxScaler\n",
        "from tensorflow.keras.layers import Dropout\n",
        "from sklearn.metrics import mean_squared_error, mean_absolute_error\n",
        "from sklearn.metrics import r2_score\n",
        "from tensorflow.keras.wrappers.scikit_learn import KerasRegressor\n",
        "from sklearn.model_selection import GridSearchCV\n"
      ]
    },
    {
      "cell_type": "code",
      "execution_count": null,
      "metadata": {
        "colab": {
          "base_uri": "https://localhost:8080/"
        },
        "id": "XY4TQgICk5SD",
        "outputId": "f2e3e791-49f6-4b01-bb8f-22eb4b00730f"
      },
      "outputs": [
        {
          "name": "stdout",
          "output_type": "stream",
          "text": [
            "Drive already mounted at /content/drive; to attempt to forcibly remount, call drive.mount(\"/content/drive\", force_remount=True).\n"
          ]
        }
      ],
      "source": [
        "from google.colab import drive\n",
        "drive.mount('/content/drive')"
      ]
    },
    {
      "cell_type": "code",
      "execution_count": null,
      "metadata": {
        "colab": {
          "base_uri": "https://localhost:8080/"
        },
        "id": "uOFqJBGOmEUv",
        "outputId": "2f46ccd4-0506-430a-df98-801595b18ff0"
      },
      "outputs": [
        {
          "name": "stdout",
          "output_type": "stream",
          "text": [
            "GPU 0: Tesla T4 (UUID: GPU-ef3d9db0-2b91-e6f5-7b30-f07d045299b9)\n"
          ]
        }
      ],
      "source": [
        "!nvidia-smi -L"
      ]
    },
    {
      "cell_type": "code",
      "execution_count": null,
      "metadata": {
        "id": "rkRGPT5mk3As"
      },
      "outputs": [],
      "source": [
        "# Load dataset\n",
        "df = pd.read_csv(\"/content/drive/My Drive/UASDeepLearning/INTC.csv\")"
      ]
    },
    {
      "cell_type": "code",
      "execution_count": null,
      "metadata": {
        "colab": {
          "base_uri": "https://localhost:8080/",
          "height": 424
        },
        "id": "TtzX_THuJp1c",
        "outputId": "c11186a2-2ad3-4d25-c9db-408dcb36f165"
      },
      "outputs": [
        {
          "data": {
            "text/html": [
              "\n",
              "  <div id=\"df-55b6370d-65e2-4215-8c72-f0a4b4fb6547\">\n",
              "    <div class=\"colab-df-container\">\n",
              "      <div>\n",
              "<style scoped>\n",
              "    .dataframe tbody tr th:only-of-type {\n",
              "        vertical-align: middle;\n",
              "    }\n",
              "\n",
              "    .dataframe tbody tr th {\n",
              "        vertical-align: top;\n",
              "    }\n",
              "\n",
              "    .dataframe thead th {\n",
              "        text-align: right;\n",
              "    }\n",
              "</style>\n",
              "<table border=\"1\" class=\"dataframe\">\n",
              "  <thead>\n",
              "    <tr style=\"text-align: right;\">\n",
              "      <th></th>\n",
              "      <th>Date</th>\n",
              "      <th>Open</th>\n",
              "      <th>High</th>\n",
              "      <th>Low</th>\n",
              "      <th>Close</th>\n",
              "      <th>Adj Close</th>\n",
              "      <th>Volume</th>\n",
              "    </tr>\n",
              "  </thead>\n",
              "  <tbody>\n",
              "    <tr>\n",
              "      <th>0</th>\n",
              "      <td>1980-03-17</td>\n",
              "      <td>0.325521</td>\n",
              "      <td>0.330729</td>\n",
              "      <td>0.325521</td>\n",
              "      <td>0.325521</td>\n",
              "      <td>0.204750</td>\n",
              "      <td>10924800</td>\n",
              "    </tr>\n",
              "    <tr>\n",
              "      <th>1</th>\n",
              "      <td>1980-03-18</td>\n",
              "      <td>0.325521</td>\n",
              "      <td>0.328125</td>\n",
              "      <td>0.322917</td>\n",
              "      <td>0.322917</td>\n",
              "      <td>0.203112</td>\n",
              "      <td>17068800</td>\n",
              "    </tr>\n",
              "    <tr>\n",
              "      <th>2</th>\n",
              "      <td>1980-03-19</td>\n",
              "      <td>0.330729</td>\n",
              "      <td>0.335938</td>\n",
              "      <td>0.330729</td>\n",
              "      <td>0.330729</td>\n",
              "      <td>0.208026</td>\n",
              "      <td>18508800</td>\n",
              "    </tr>\n",
              "    <tr>\n",
              "      <th>3</th>\n",
              "      <td>1980-03-20</td>\n",
              "      <td>0.330729</td>\n",
              "      <td>0.334635</td>\n",
              "      <td>0.329427</td>\n",
              "      <td>0.329427</td>\n",
              "      <td>0.207207</td>\n",
              "      <td>11174400</td>\n",
              "    </tr>\n",
              "    <tr>\n",
              "      <th>4</th>\n",
              "      <td>1980-03-21</td>\n",
              "      <td>0.322917</td>\n",
              "      <td>0.322917</td>\n",
              "      <td>0.317708</td>\n",
              "      <td>0.317708</td>\n",
              "      <td>0.199836</td>\n",
              "      <td>12172800</td>\n",
              "    </tr>\n",
              "    <tr>\n",
              "      <th>...</th>\n",
              "      <td>...</td>\n",
              "      <td>...</td>\n",
              "      <td>...</td>\n",
              "      <td>...</td>\n",
              "      <td>...</td>\n",
              "      <td>...</td>\n",
              "      <td>...</td>\n",
              "    </tr>\n",
              "    <tr>\n",
              "      <th>10093</th>\n",
              "      <td>2020-03-26</td>\n",
              "      <td>51.740002</td>\n",
              "      <td>55.950001</td>\n",
              "      <td>51.660000</td>\n",
              "      <td>55.540001</td>\n",
              "      <td>55.540001</td>\n",
              "      <td>41459800</td>\n",
              "    </tr>\n",
              "    <tr>\n",
              "      <th>10094</th>\n",
              "      <td>2020-03-27</td>\n",
              "      <td>53.419998</td>\n",
              "      <td>54.639999</td>\n",
              "      <td>52.070000</td>\n",
              "      <td>52.369999</td>\n",
              "      <td>52.369999</td>\n",
              "      <td>31633500</td>\n",
              "    </tr>\n",
              "    <tr>\n",
              "      <th>10095</th>\n",
              "      <td>2020-03-30</td>\n",
              "      <td>52.990002</td>\n",
              "      <td>56.099998</td>\n",
              "      <td>52.830002</td>\n",
              "      <td>55.490002</td>\n",
              "      <td>55.490002</td>\n",
              "      <td>31628600</td>\n",
              "    </tr>\n",
              "    <tr>\n",
              "      <th>10096</th>\n",
              "      <td>2020-03-31</td>\n",
              "      <td>55.060001</td>\n",
              "      <td>55.799999</td>\n",
              "      <td>53.220001</td>\n",
              "      <td>54.119999</td>\n",
              "      <td>54.119999</td>\n",
              "      <td>48074700</td>\n",
              "    </tr>\n",
              "    <tr>\n",
              "      <th>10097</th>\n",
              "      <td>2020-04-01</td>\n",
              "      <td>52.500000</td>\n",
              "      <td>54.689999</td>\n",
              "      <td>51.430000</td>\n",
              "      <td>51.880001</td>\n",
              "      <td>51.880001</td>\n",
              "      <td>29582100</td>\n",
              "    </tr>\n",
              "  </tbody>\n",
              "</table>\n",
              "<p>10098 rows × 7 columns</p>\n",
              "</div>\n",
              "      <button class=\"colab-df-convert\" onclick=\"convertToInteractive('df-55b6370d-65e2-4215-8c72-f0a4b4fb6547')\"\n",
              "              title=\"Convert this dataframe to an interactive table.\"\n",
              "              style=\"display:none;\">\n",
              "        \n",
              "  <svg xmlns=\"http://www.w3.org/2000/svg\" height=\"24px\"viewBox=\"0 0 24 24\"\n",
              "       width=\"24px\">\n",
              "    <path d=\"M0 0h24v24H0V0z\" fill=\"none\"/>\n",
              "    <path d=\"M18.56 5.44l.94 2.06.94-2.06 2.06-.94-2.06-.94-.94-2.06-.94 2.06-2.06.94zm-11 1L8.5 8.5l.94-2.06 2.06-.94-2.06-.94L8.5 2.5l-.94 2.06-2.06.94zm10 10l.94 2.06.94-2.06 2.06-.94-2.06-.94-.94-2.06-.94 2.06-2.06.94z\"/><path d=\"M17.41 7.96l-1.37-1.37c-.4-.4-.92-.59-1.43-.59-.52 0-1.04.2-1.43.59L10.3 9.45l-7.72 7.72c-.78.78-.78 2.05 0 2.83L4 21.41c.39.39.9.59 1.41.59.51 0 1.02-.2 1.41-.59l7.78-7.78 2.81-2.81c.8-.78.8-2.07 0-2.86zM5.41 20L4 18.59l7.72-7.72 1.47 1.35L5.41 20z\"/>\n",
              "  </svg>\n",
              "      </button>\n",
              "      \n",
              "  <style>\n",
              "    .colab-df-container {\n",
              "      display:flex;\n",
              "      flex-wrap:wrap;\n",
              "      gap: 12px;\n",
              "    }\n",
              "\n",
              "    .colab-df-convert {\n",
              "      background-color: #E8F0FE;\n",
              "      border: none;\n",
              "      border-radius: 50%;\n",
              "      cursor: pointer;\n",
              "      display: none;\n",
              "      fill: #1967D2;\n",
              "      height: 32px;\n",
              "      padding: 0 0 0 0;\n",
              "      width: 32px;\n",
              "    }\n",
              "\n",
              "    .colab-df-convert:hover {\n",
              "      background-color: #E2EBFA;\n",
              "      box-shadow: 0px 1px 2px rgba(60, 64, 67, 0.3), 0px 1px 3px 1px rgba(60, 64, 67, 0.15);\n",
              "      fill: #174EA6;\n",
              "    }\n",
              "\n",
              "    [theme=dark] .colab-df-convert {\n",
              "      background-color: #3B4455;\n",
              "      fill: #D2E3FC;\n",
              "    }\n",
              "\n",
              "    [theme=dark] .colab-df-convert:hover {\n",
              "      background-color: #434B5C;\n",
              "      box-shadow: 0px 1px 3px 1px rgba(0, 0, 0, 0.15);\n",
              "      filter: drop-shadow(0px 1px 2px rgba(0, 0, 0, 0.3));\n",
              "      fill: #FFFFFF;\n",
              "    }\n",
              "  </style>\n",
              "\n",
              "      <script>\n",
              "        const buttonEl =\n",
              "          document.querySelector('#df-55b6370d-65e2-4215-8c72-f0a4b4fb6547 button.colab-df-convert');\n",
              "        buttonEl.style.display =\n",
              "          google.colab.kernel.accessAllowed ? 'block' : 'none';\n",
              "\n",
              "        async function convertToInteractive(key) {\n",
              "          const element = document.querySelector('#df-55b6370d-65e2-4215-8c72-f0a4b4fb6547');\n",
              "          const dataTable =\n",
              "            await google.colab.kernel.invokeFunction('convertToInteractive',\n",
              "                                                     [key], {});\n",
              "          if (!dataTable) return;\n",
              "\n",
              "          const docLinkHtml = 'Like what you see? Visit the ' +\n",
              "            '<a target=\"_blank\" href=https://colab.research.google.com/notebooks/data_table.ipynb>data table notebook</a>'\n",
              "            + ' to learn more about interactive tables.';\n",
              "          element.innerHTML = '';\n",
              "          dataTable['output_type'] = 'display_data';\n",
              "          await google.colab.output.renderOutput(dataTable, element);\n",
              "          const docLink = document.createElement('div');\n",
              "          docLink.innerHTML = docLinkHtml;\n",
              "          element.appendChild(docLink);\n",
              "        }\n",
              "      </script>\n",
              "    </div>\n",
              "  </div>\n",
              "  "
            ],
            "text/plain": [
              "             Date       Open       High        Low      Close  Adj Close  \\\n",
              "0      1980-03-17   0.325521   0.330729   0.325521   0.325521   0.204750   \n",
              "1      1980-03-18   0.325521   0.328125   0.322917   0.322917   0.203112   \n",
              "2      1980-03-19   0.330729   0.335938   0.330729   0.330729   0.208026   \n",
              "3      1980-03-20   0.330729   0.334635   0.329427   0.329427   0.207207   \n",
              "4      1980-03-21   0.322917   0.322917   0.317708   0.317708   0.199836   \n",
              "...           ...        ...        ...        ...        ...        ...   \n",
              "10093  2020-03-26  51.740002  55.950001  51.660000  55.540001  55.540001   \n",
              "10094  2020-03-27  53.419998  54.639999  52.070000  52.369999  52.369999   \n",
              "10095  2020-03-30  52.990002  56.099998  52.830002  55.490002  55.490002   \n",
              "10096  2020-03-31  55.060001  55.799999  53.220001  54.119999  54.119999   \n",
              "10097  2020-04-01  52.500000  54.689999  51.430000  51.880001  51.880001   \n",
              "\n",
              "         Volume  \n",
              "0      10924800  \n",
              "1      17068800  \n",
              "2      18508800  \n",
              "3      11174400  \n",
              "4      12172800  \n",
              "...         ...  \n",
              "10093  41459800  \n",
              "10094  31633500  \n",
              "10095  31628600  \n",
              "10096  48074700  \n",
              "10097  29582100  \n",
              "\n",
              "[10098 rows x 7 columns]"
            ]
          },
          "execution_count": 10,
          "metadata": {},
          "output_type": "execute_result"
        }
      ],
      "source": [
        "df = pd.DataFrame(df)\n",
        "df"
      ]
    },
    {
      "cell_type": "code",
      "execution_count": null,
      "metadata": {
        "colab": {
          "base_uri": "https://localhost:8080/"
        },
        "id": "EEwOE3F1nEFY",
        "outputId": "d8e17133-d54d-40ad-8c26-c9de53ee9bd0"
      },
      "outputs": [
        {
          "name": "stdout",
          "output_type": "stream",
          "text": [
            "<class 'pandas.core.frame.DataFrame'>\n",
            "RangeIndex: 10098 entries, 0 to 10097\n",
            "Data columns (total 7 columns):\n",
            " #   Column     Non-Null Count  Dtype  \n",
            "---  ------     --------------  -----  \n",
            " 0   Date       10098 non-null  object \n",
            " 1   Open       10098 non-null  float64\n",
            " 2   High       10098 non-null  float64\n",
            " 3   Low        10098 non-null  float64\n",
            " 4   Close      10098 non-null  float64\n",
            " 5   Adj Close  10098 non-null  float64\n",
            " 6   Volume     10098 non-null  int64  \n",
            "dtypes: float64(5), int64(1), object(1)\n",
            "memory usage: 552.4+ KB\n"
          ]
        }
      ],
      "source": [
        "df.info()"
      ]
    },
    {
      "cell_type": "code",
      "execution_count": null,
      "metadata": {
        "colab": {
          "base_uri": "https://localhost:8080/",
          "height": 564
        },
        "id": "RuGxbajZwoZZ",
        "outputId": "925b1617-712d-4d16-bf96-9fbf065ee712"
      },
      "outputs": [
        {
          "data": {
            "image/png": "[encoded data removed]",
            "text/plain": [
              "<Figure size 800x600 with 1 Axes>"
            ]
          },
          "metadata": {},
          "output_type": "display_data"
        }
      ],
      "source": [
        "# Grouping data of INTC to see trend over years with mean\n",
        "intc_years = df.groupby('Date')['Close'].mean()\n",
        "\n",
        "plt.figure(figsize=(8, 6))\n",
        "plt.plot(intc_years.index, intc_years, label='INTC Close Price', color=\"green\")\n",
        "plt.xlabel('Year')\n",
        "plt.ylabel('Close Price')\n",
        "plt.title('Mean Closing of INTC')\n",
        "plt.legend()\n",
        "plt.grid(True)\n",
        "plt.show()"
      ]
    },
    {
      "cell_type": "code",
      "execution_count": null,
      "metadata": {
        "colab": {
          "base_uri": "https://localhost:8080/"
        },
        "id": "DmLB3My2LwRc",
        "outputId": "7d461261-b0a5-44b6-e013-3fce7a877beb"
      },
      "outputs": [
        {
          "data": {
            "text/plain": [
              "Date\n",
              "1980-03-17    0.325521\n",
              "1980-03-18    0.322917\n",
              "1980-03-19    0.330729\n",
              "1980-03-20    0.329427\n",
              "1980-03-21    0.317708\n",
              "1980-03-24    0.311198\n",
              "1980-03-25    0.312500\n",
              "1980-03-26    0.309896\n",
              "1980-03-27    0.299479\n",
              "1980-03-28    0.311198\n",
              "Name: Close, dtype: float64"
            ]
          },
          "execution_count": 10,
          "metadata": {},
          "output_type": "execute_result"
        }
      ],
      "source": [
        "df_price = df['Close']\n",
        "df_price.head(10)"
      ]
    },
    {
      "cell_type": "code",
      "execution_count": null,
      "metadata": {
        "colab": {
          "base_uri": "https://localhost:8080/",
          "height": 615
        },
        "id": "tHvWbLfaMQ9r",
        "outputId": "05084a89-e154-4613-f4fa-761491b7a599"
      },
      "outputs": [
        {
          "data": {
            "text/plain": [
              "Text(0, 0.5, 'INTC Price')"
            ]
          },
          "execution_count": 13,
          "metadata": {},
          "output_type": "execute_result"
        },
        {
          "data": {
            "image/png": "[encoded data removed]",
            "text/plain": [
              "<Figure size 1000x700 with 1 Axes>"
            ]
          },
          "metadata": {},
          "output_type": "display_data"
        }
      ],
      "source": [
        "# Plotting the time series\n",
        "df_price.plot(figsize=(10,7))\n",
        "plt.title('Price of INTC Over Years',fontsize=16)\n",
        "plt.xlabel('Date')\n",
        "plt.ylabel('INTC Price')"
      ]
    },
    {
      "cell_type": "markdown",
      "metadata": {
        "id": "rAnrFtZizAjM"
      },
      "source": [
        "Splitting Data"
      ]
    },
    {
      "cell_type": "code",
      "execution_count": null,
      "metadata": {
        "colab": {
          "base_uri": "https://localhost:8080/",
          "height": 424
        },
        "id": "u3ISbg-ky_sG",
        "outputId": "115f47c2-9f2a-431c-cc4a-b838fd4208ae"
      },
      "outputs": [
        {
          "data": {
            "text/html": [
              "\n",
              "  <div id=\"df-214555be-814c-48f6-b51b-ec53796071b7\">\n",
              "    <div class=\"colab-df-container\">\n",
              "      <div>\n",
              "<style scoped>\n",
              "    .dataframe tbody tr th:only-of-type {\n",
              "        vertical-align: middle;\n",
              "    }\n",
              "\n",
              "    .dataframe tbody tr th {\n",
              "        vertical-align: top;\n",
              "    }\n",
              "\n",
              "    .dataframe thead th {\n",
              "        text-align: right;\n",
              "    }\n",
              "</style>\n",
              "<table border=\"1\" class=\"dataframe\">\n",
              "  <thead>\n",
              "    <tr style=\"text-align: right;\">\n",
              "      <th></th>\n",
              "      <th>Date</th>\n",
              "      <th>Open</th>\n",
              "      <th>High</th>\n",
              "      <th>Low</th>\n",
              "      <th>Close</th>\n",
              "      <th>Adj Close</th>\n",
              "      <th>Volume</th>\n",
              "    </tr>\n",
              "  </thead>\n",
              "  <tbody>\n",
              "    <tr>\n",
              "      <th>0</th>\n",
              "      <td>1980-03-17</td>\n",
              "      <td>0.325521</td>\n",
              "      <td>0.330729</td>\n",
              "      <td>0.325521</td>\n",
              "      <td>0.325521</td>\n",
              "      <td>0.204750</td>\n",
              "      <td>10924800</td>\n",
              "    </tr>\n",
              "    <tr>\n",
              "      <th>1</th>\n",
              "      <td>1980-03-18</td>\n",
              "      <td>0.325521</td>\n",
              "      <td>0.328125</td>\n",
              "      <td>0.322917</td>\n",
              "      <td>0.322917</td>\n",
              "      <td>0.203112</td>\n",
              "      <td>17068800</td>\n",
              "    </tr>\n",
              "    <tr>\n",
              "      <th>2</th>\n",
              "      <td>1980-03-19</td>\n",
              "      <td>0.330729</td>\n",
              "      <td>0.335938</td>\n",
              "      <td>0.330729</td>\n",
              "      <td>0.330729</td>\n",
              "      <td>0.208026</td>\n",
              "      <td>18508800</td>\n",
              "    </tr>\n",
              "    <tr>\n",
              "      <th>3</th>\n",
              "      <td>1980-03-20</td>\n",
              "      <td>0.330729</td>\n",
              "      <td>0.334635</td>\n",
              "      <td>0.329427</td>\n",
              "      <td>0.329427</td>\n",
              "      <td>0.207207</td>\n",
              "      <td>11174400</td>\n",
              "    </tr>\n",
              "    <tr>\n",
              "      <th>4</th>\n",
              "      <td>1980-03-21</td>\n",
              "      <td>0.322917</td>\n",
              "      <td>0.322917</td>\n",
              "      <td>0.317708</td>\n",
              "      <td>0.317708</td>\n",
              "      <td>0.199836</td>\n",
              "      <td>12172800</td>\n",
              "    </tr>\n",
              "    <tr>\n",
              "      <th>...</th>\n",
              "      <td>...</td>\n",
              "      <td>...</td>\n",
              "      <td>...</td>\n",
              "      <td>...</td>\n",
              "      <td>...</td>\n",
              "      <td>...</td>\n",
              "      <td>...</td>\n",
              "    </tr>\n",
              "    <tr>\n",
              "      <th>10093</th>\n",
              "      <td>2020-03-26</td>\n",
              "      <td>51.740002</td>\n",
              "      <td>55.950001</td>\n",
              "      <td>51.660000</td>\n",
              "      <td>55.540001</td>\n",
              "      <td>55.540001</td>\n",
              "      <td>41459800</td>\n",
              "    </tr>\n",
              "    <tr>\n",
              "      <th>10094</th>\n",
              "      <td>2020-03-27</td>\n",
              "      <td>53.419998</td>\n",
              "      <td>54.639999</td>\n",
              "      <td>52.070000</td>\n",
              "      <td>52.369999</td>\n",
              "      <td>52.369999</td>\n",
              "      <td>31633500</td>\n",
              "    </tr>\n",
              "    <tr>\n",
              "      <th>10095</th>\n",
              "      <td>2020-03-30</td>\n",
              "      <td>52.990002</td>\n",
              "      <td>56.099998</td>\n",
              "      <td>52.830002</td>\n",
              "      <td>55.490002</td>\n",
              "      <td>55.490002</td>\n",
              "      <td>31628600</td>\n",
              "    </tr>\n",
              "    <tr>\n",
              "      <th>10096</th>\n",
              "      <td>2020-03-31</td>\n",
              "      <td>55.060001</td>\n",
              "      <td>55.799999</td>\n",
              "      <td>53.220001</td>\n",
              "      <td>54.119999</td>\n",
              "      <td>54.119999</td>\n",
              "      <td>48074700</td>\n",
              "    </tr>\n",
              "    <tr>\n",
              "      <th>10097</th>\n",
              "      <td>2020-04-01</td>\n",
              "      <td>52.500000</td>\n",
              "      <td>54.689999</td>\n",
              "      <td>51.430000</td>\n",
              "      <td>51.880001</td>\n",
              "      <td>51.880001</td>\n",
              "      <td>29582100</td>\n",
              "    </tr>\n",
              "  </tbody>\n",
              "</table>\n",
              "<p>10098 rows × 7 columns</p>\n",
              "</div>\n",
              "      <button class=\"colab-df-convert\" onclick=\"convertToInteractive('df-214555be-814c-48f6-b51b-ec53796071b7')\"\n",
              "              title=\"Convert this dataframe to an interactive table.\"\n",
              "              style=\"display:none;\">\n",
              "        \n",
              "  <svg xmlns=\"http://www.w3.org/2000/svg\" height=\"24px\"viewBox=\"0 0 24 24\"\n",
              "       width=\"24px\">\n",
              "    <path d=\"M0 0h24v24H0V0z\" fill=\"none\"/>\n",
              "    <path d=\"M18.56 5.44l.94 2.06.94-2.06 2.06-.94-2.06-.94-.94-2.06-.94 2.06-2.06.94zm-11 1L8.5 8.5l.94-2.06 2.06-.94-2.06-.94L8.5 2.5l-.94 2.06-2.06.94zm10 10l.94 2.06.94-2.06 2.06-.94-2.06-.94-.94-2.06-.94 2.06-2.06.94z\"/><path d=\"M17.41 7.96l-1.37-1.37c-.4-.4-.92-.59-1.43-.59-.52 0-1.04.2-1.43.59L10.3 9.45l-7.72 7.72c-.78.78-.78 2.05 0 2.83L4 21.41c.39.39.9.59 1.41.59.51 0 1.02-.2 1.41-.59l7.78-7.78 2.81-2.81c.8-.78.8-2.07 0-2.86zM5.41 20L4 18.59l7.72-7.72 1.47 1.35L5.41 20z\"/>\n",
              "  </svg>\n",
              "      </button>\n",
              "      \n",
              "  <style>\n",
              "    .colab-df-container {\n",
              "      display:flex;\n",
              "      flex-wrap:wrap;\n",
              "      gap: 12px;\n",
              "    }\n",
              "\n",
              "    .colab-df-convert {\n",
              "      background-color: #E8F0FE;\n",
              "      border: none;\n",
              "      border-radius: 50%;\n",
              "      cursor: pointer;\n",
              "      display: none;\n",
              "      fill: #1967D2;\n",
              "      height: 32px;\n",
              "      padding: 0 0 0 0;\n",
              "      width: 32px;\n",
              "    }\n",
              "\n",
              "    .colab-df-convert:hover {\n",
              "      background-color: #E2EBFA;\n",
              "      box-shadow: 0px 1px 2px rgba(60, 64, 67, 0.3), 0px 1px 3px 1px rgba(60, 64, 67, 0.15);\n",
              "      fill: #174EA6;\n",
              "    }\n",
              "\n",
              "    [theme=dark] .colab-df-convert {\n",
              "      background-color: #3B4455;\n",
              "      fill: #D2E3FC;\n",
              "    }\n",
              "\n",
              "    [theme=dark] .colab-df-convert:hover {\n",
              "      background-color: #434B5C;\n",
              "      box-shadow: 0px 1px 3px 1px rgba(0, 0, 0, 0.15);\n",
              "      filter: drop-shadow(0px 1px 2px rgba(0, 0, 0, 0.3));\n",
              "      fill: #FFFFFF;\n",
              "    }\n",
              "  </style>\n",
              "\n",
              "      <script>\n",
              "        const buttonEl =\n",
              "          document.querySelector('#df-214555be-814c-48f6-b51b-ec53796071b7 button.colab-df-convert');\n",
              "        buttonEl.style.display =\n",
              "          google.colab.kernel.accessAllowed ? 'block' : 'none';\n",
              "\n",
              "        async function convertToInteractive(key) {\n",
              "          const element = document.querySelector('#df-214555be-814c-48f6-b51b-ec53796071b7');\n",
              "          const dataTable =\n",
              "            await google.colab.kernel.invokeFunction('convertToInteractive',\n",
              "                                                     [key], {});\n",
              "          if (!dataTable) return;\n",
              "\n",
              "          const docLinkHtml = 'Like what you see? Visit the ' +\n",
              "            '<a target=\"_blank\" href=https://colab.research.google.com/notebooks/data_table.ipynb>data table notebook</a>'\n",
              "            + ' to learn more about interactive tables.';\n",
              "          element.innerHTML = '';\n",
              "          dataTable['output_type'] = 'display_data';\n",
              "          await google.colab.output.renderOutput(dataTable, element);\n",
              "          const docLink = document.createElement('div');\n",
              "          docLink.innerHTML = docLinkHtml;\n",
              "          element.appendChild(docLink);\n",
              "        }\n",
              "      </script>\n",
              "    </div>\n",
              "  </div>\n",
              "  "
            ],
            "text/plain": [
              "             Date       Open       High        Low      Close  Adj Close  \\\n",
              "0      1980-03-17   0.325521   0.330729   0.325521   0.325521   0.204750   \n",
              "1      1980-03-18   0.325521   0.328125   0.322917   0.322917   0.203112   \n",
              "2      1980-03-19   0.330729   0.335938   0.330729   0.330729   0.208026   \n",
              "3      1980-03-20   0.330729   0.334635   0.329427   0.329427   0.207207   \n",
              "4      1980-03-21   0.322917   0.322917   0.317708   0.317708   0.199836   \n",
              "...           ...        ...        ...        ...        ...        ...   \n",
              "10093  2020-03-26  51.740002  55.950001  51.660000  55.540001  55.540001   \n",
              "10094  2020-03-27  53.419998  54.639999  52.070000  52.369999  52.369999   \n",
              "10095  2020-03-30  52.990002  56.099998  52.830002  55.490002  55.490002   \n",
              "10096  2020-03-31  55.060001  55.799999  53.220001  54.119999  54.119999   \n",
              "10097  2020-04-01  52.500000  54.689999  51.430000  51.880001  51.880001   \n",
              "\n",
              "         Volume  \n",
              "0      10924800  \n",
              "1      17068800  \n",
              "2      18508800  \n",
              "3      11174400  \n",
              "4      12172800  \n",
              "...         ...  \n",
              "10093  41459800  \n",
              "10094  31633500  \n",
              "10095  31628600  \n",
              "10096  48074700  \n",
              "10097  29582100  \n",
              "\n",
              "[10098 rows x 7 columns]"
            ]
          },
          "execution_count": 11,
          "metadata": {},
          "output_type": "execute_result"
        }
      ],
      "source": [
        "df"
      ]
    },
    {
      "cell_type": "code",
      "execution_count": null,
      "metadata": {
        "colab": {
          "base_uri": "https://localhost:8080/",
          "height": 424
        },
        "id": "Zq6jrxXb3l6A",
        "outputId": "1db3af7b-557c-48c1-d20f-c68e4bfef4f6"
      },
      "outputs": [
        {
          "data": {
            "text/html": [
              "\n",
              "  <div id=\"df-b193ee55-046d-4ef0-84db-1f0f2120c6a6\">\n",
              "    <div class=\"colab-df-container\">\n",
              "      <div>\n",
              "<style scoped>\n",
              "    .dataframe tbody tr th:only-of-type {\n",
              "        vertical-align: middle;\n",
              "    }\n",
              "\n",
              "    .dataframe tbody tr th {\n",
              "        vertical-align: top;\n",
              "    }\n",
              "\n",
              "    .dataframe thead th {\n",
              "        text-align: right;\n",
              "    }\n",
              "</style>\n",
              "<table border=\"1\" class=\"dataframe\">\n",
              "  <thead>\n",
              "    <tr style=\"text-align: right;\">\n",
              "      <th></th>\n",
              "      <th>Date</th>\n",
              "      <th>Close</th>\n",
              "    </tr>\n",
              "  </thead>\n",
              "  <tbody>\n",
              "    <tr>\n",
              "      <th>0</th>\n",
              "      <td>1980-03-17</td>\n",
              "      <td>0.325521</td>\n",
              "    </tr>\n",
              "    <tr>\n",
              "      <th>1</th>\n",
              "      <td>1980-03-18</td>\n",
              "      <td>0.322917</td>\n",
              "    </tr>\n",
              "    <tr>\n",
              "      <th>2</th>\n",
              "      <td>1980-03-19</td>\n",
              "      <td>0.330729</td>\n",
              "    </tr>\n",
              "    <tr>\n",
              "      <th>3</th>\n",
              "      <td>1980-03-20</td>\n",
              "      <td>0.329427</td>\n",
              "    </tr>\n",
              "    <tr>\n",
              "      <th>4</th>\n",
              "      <td>1980-03-21</td>\n",
              "      <td>0.317708</td>\n",
              "    </tr>\n",
              "    <tr>\n",
              "      <th>...</th>\n",
              "      <td>...</td>\n",
              "      <td>...</td>\n",
              "    </tr>\n",
              "    <tr>\n",
              "      <th>10093</th>\n",
              "      <td>2020-03-26</td>\n",
              "      <td>55.540001</td>\n",
              "    </tr>\n",
              "    <tr>\n",
              "      <th>10094</th>\n",
              "      <td>2020-03-27</td>\n",
              "      <td>52.369999</td>\n",
              "    </tr>\n",
              "    <tr>\n",
              "      <th>10095</th>\n",
              "      <td>2020-03-30</td>\n",
              "      <td>55.490002</td>\n",
              "    </tr>\n",
              "    <tr>\n",
              "      <th>10096</th>\n",
              "      <td>2020-03-31</td>\n",
              "      <td>54.119999</td>\n",
              "    </tr>\n",
              "    <tr>\n",
              "      <th>10097</th>\n",
              "      <td>2020-04-01</td>\n",
              "      <td>51.880001</td>\n",
              "    </tr>\n",
              "  </tbody>\n",
              "</table>\n",
              "<p>10098 rows × 2 columns</p>\n",
              "</div>\n",
              "      <button class=\"colab-df-convert\" onclick=\"convertToInteractive('df-b193ee55-046d-4ef0-84db-1f0f2120c6a6')\"\n",
              "              title=\"Convert this dataframe to an interactive table.\"\n",
              "              style=\"display:none;\">\n",
              "        \n",
              "  <svg xmlns=\"http://www.w3.org/2000/svg\" height=\"24px\"viewBox=\"0 0 24 24\"\n",
              "       width=\"24px\">\n",
              "    <path d=\"M0 0h24v24H0V0z\" fill=\"none\"/>\n",
              "    <path d=\"M18.56 5.44l.94 2.06.94-2.06 2.06-.94-2.06-.94-.94-2.06-.94 2.06-2.06.94zm-11 1L8.5 8.5l.94-2.06 2.06-.94-2.06-.94L8.5 2.5l-.94 2.06-2.06.94zm10 10l.94 2.06.94-2.06 2.06-.94-2.06-.94-.94-2.06-.94 2.06-2.06.94z\"/><path d=\"M17.41 7.96l-1.37-1.37c-.4-.4-.92-.59-1.43-.59-.52 0-1.04.2-1.43.59L10.3 9.45l-7.72 7.72c-.78.78-.78 2.05 0 2.83L4 21.41c.39.39.9.59 1.41.59.51 0 1.02-.2 1.41-.59l7.78-7.78 2.81-2.81c.8-.78.8-2.07 0-2.86zM5.41 20L4 18.59l7.72-7.72 1.47 1.35L5.41 20z\"/>\n",
              "  </svg>\n",
              "      </button>\n",
              "      \n",
              "  <style>\n",
              "    .colab-df-container {\n",
              "      display:flex;\n",
              "      flex-wrap:wrap;\n",
              "      gap: 12px;\n",
              "    }\n",
              "\n",
              "    .colab-df-convert {\n",
              "      background-color: #E8F0FE;\n",
              "      border: none;\n",
              "      border-radius: 50%;\n",
              "      cursor: pointer;\n",
              "      display: none;\n",
              "      fill: #1967D2;\n",
              "      height: 32px;\n",
              "      padding: 0 0 0 0;\n",
              "      width: 32px;\n",
              "    }\n",
              "\n",
              "    .colab-df-convert:hover {\n",
              "      background-color: #E2EBFA;\n",
              "      box-shadow: 0px 1px 2px rgba(60, 64, 67, 0.3), 0px 1px 3px 1px rgba(60, 64, 67, 0.15);\n",
              "      fill: #174EA6;\n",
              "    }\n",
              "\n",
              "    [theme=dark] .colab-df-convert {\n",
              "      background-color: #3B4455;\n",
              "      fill: #D2E3FC;\n",
              "    }\n",
              "\n",
              "    [theme=dark] .colab-df-convert:hover {\n",
              "      background-color: #434B5C;\n",
              "      box-shadow: 0px 1px 3px 1px rgba(0, 0, 0, 0.15);\n",
              "      filter: drop-shadow(0px 1px 2px rgba(0, 0, 0, 0.3));\n",
              "      fill: #FFFFFF;\n",
              "    }\n",
              "  </style>\n",
              "\n",
              "      <script>\n",
              "        const buttonEl =\n",
              "          document.querySelector('#df-b193ee55-046d-4ef0-84db-1f0f2120c6a6 button.colab-df-convert');\n",
              "        buttonEl.style.display =\n",
              "          google.colab.kernel.accessAllowed ? 'block' : 'none';\n",
              "\n",
              "        async function convertToInteractive(key) {\n",
              "          const element = document.querySelector('#df-b193ee55-046d-4ef0-84db-1f0f2120c6a6');\n",
              "          const dataTable =\n",
              "            await google.colab.kernel.invokeFunction('convertToInteractive',\n",
              "                                                     [key], {});\n",
              "          if (!dataTable) return;\n",
              "\n",
              "          const docLinkHtml = 'Like what you see? Visit the ' +\n",
              "            '<a target=\"_blank\" href=https://colab.research.google.com/notebooks/data_table.ipynb>data table notebook</a>'\n",
              "            + ' to learn more about interactive tables.';\n",
              "          element.innerHTML = '';\n",
              "          dataTable['output_type'] = 'display_data';\n",
              "          await google.colab.output.renderOutput(dataTable, element);\n",
              "          const docLink = document.createElement('div');\n",
              "          docLink.innerHTML = docLinkHtml;\n",
              "          element.appendChild(docLink);\n",
              "        }\n",
              "      </script>\n",
              "    </div>\n",
              "  </div>\n",
              "  "
            ],
            "text/plain": [
              "             Date      Close\n",
              "0      1980-03-17   0.325521\n",
              "1      1980-03-18   0.322917\n",
              "2      1980-03-19   0.330729\n",
              "3      1980-03-20   0.329427\n",
              "4      1980-03-21   0.317708\n",
              "...           ...        ...\n",
              "10093  2020-03-26  55.540001\n",
              "10094  2020-03-27  52.369999\n",
              "10095  2020-03-30  55.490002\n",
              "10096  2020-03-31  54.119999\n",
              "10097  2020-04-01  51.880001\n",
              "\n",
              "[10098 rows x 2 columns]"
            ]
          },
          "execution_count": 12,
          "metadata": {},
          "output_type": "execute_result"
        }
      ],
      "source": [
        "# Data yang hanya akan digunakan\n",
        "df = df[['Date', 'Close']]\n",
        "df"
      ]
    },
    {
      "cell_type": "code",
      "execution_count": null,
      "metadata": {
        "colab": {
          "base_uri": "https://localhost:8080/"
        },
        "id": "VmN3n1e5JyfJ",
        "outputId": "3d9b537b-0031-4f22-b778-3c736ea3b5f4"
      },
      "outputs": [
        {
          "name": "stderr",
          "output_type": "stream",
          "text": [
            "<ipython-input-13-b9c6864122be>:1: SettingWithCopyWarning: \n",
            "A value is trying to be set on a copy of a slice from a DataFrame.\n",
            "Try using .loc[row_indexer,col_indexer] = value instead\n",
            "\n",
            "See the caveats in the documentation: https://pandas.pydata.org/pandas-docs/stable/user_guide/indexing.html#returning-a-view-versus-a-copy\n",
            "  df['Date'] = pd.to_datetime(df['Date'])\n"
          ]
        }
      ],
      "source": [
        "df['Date'] = pd.to_datetime(df['Date'])"
      ]
    },
    {
      "cell_type": "code",
      "execution_count": null,
      "metadata": {
        "id": "WMBjWxrXJ1cR"
      },
      "outputs": [],
      "source": [
        "df.set_index('Date', inplace=True) #set Date column as index"
      ]
    },
    {
      "cell_type": "code",
      "execution_count": null,
      "metadata": {
        "colab": {
          "base_uri": "https://localhost:8080/",
          "height": 455
        },
        "id": "BJJM_8d340jn",
        "outputId": "a13b19e3-f5a4-4c65-ac45-e47df59890fb"
      },
      "outputs": [
        {
          "data": {
            "text/html": [
              "\n",
              "  <div id=\"df-8575bf3c-9c20-462f-a75b-7c58e4b27820\">\n",
              "    <div class=\"colab-df-container\">\n",
              "      <div>\n",
              "<style scoped>\n",
              "    .dataframe tbody tr th:only-of-type {\n",
              "        vertical-align: middle;\n",
              "    }\n",
              "\n",
              "    .dataframe tbody tr th {\n",
              "        vertical-align: top;\n",
              "    }\n",
              "\n",
              "    .dataframe thead th {\n",
              "        text-align: right;\n",
              "    }\n",
              "</style>\n",
              "<table border=\"1\" class=\"dataframe\">\n",
              "  <thead>\n",
              "    <tr style=\"text-align: right;\">\n",
              "      <th></th>\n",
              "      <th>Close</th>\n",
              "    </tr>\n",
              "    <tr>\n",
              "      <th>Date</th>\n",
              "      <th></th>\n",
              "    </tr>\n",
              "  </thead>\n",
              "  <tbody>\n",
              "    <tr>\n",
              "      <th>1980-03-17</th>\n",
              "      <td>0.325521</td>\n",
              "    </tr>\n",
              "    <tr>\n",
              "      <th>1980-03-18</th>\n",
              "      <td>0.322917</td>\n",
              "    </tr>\n",
              "    <tr>\n",
              "      <th>1980-03-19</th>\n",
              "      <td>0.330729</td>\n",
              "    </tr>\n",
              "    <tr>\n",
              "      <th>1980-03-20</th>\n",
              "      <td>0.329427</td>\n",
              "    </tr>\n",
              "    <tr>\n",
              "      <th>1980-03-21</th>\n",
              "      <td>0.317708</td>\n",
              "    </tr>\n",
              "    <tr>\n",
              "      <th>...</th>\n",
              "      <td>...</td>\n",
              "    </tr>\n",
              "    <tr>\n",
              "      <th>2020-03-26</th>\n",
              "      <td>55.540001</td>\n",
              "    </tr>\n",
              "    <tr>\n",
              "      <th>2020-03-27</th>\n",
              "      <td>52.369999</td>\n",
              "    </tr>\n",
              "    <tr>\n",
              "      <th>2020-03-30</th>\n",
              "      <td>55.490002</td>\n",
              "    </tr>\n",
              "    <tr>\n",
              "      <th>2020-03-31</th>\n",
              "      <td>54.119999</td>\n",
              "    </tr>\n",
              "    <tr>\n",
              "      <th>2020-04-01</th>\n",
              "      <td>51.880001</td>\n",
              "    </tr>\n",
              "  </tbody>\n",
              "</table>\n",
              "<p>10098 rows × 1 columns</p>\n",
              "</div>\n",
              "      <button class=\"colab-df-convert\" onclick=\"convertToInteractive('df-8575bf3c-9c20-462f-a75b-7c58e4b27820')\"\n",
              "              title=\"Convert this dataframe to an interactive table.\"\n",
              "              style=\"display:none;\">\n",
              "        \n",
              "  <svg xmlns=\"http://www.w3.org/2000/svg\" height=\"24px\"viewBox=\"0 0 24 24\"\n",
              "       width=\"24px\">\n",
              "    <path d=\"M0 0h24v24H0V0z\" fill=\"none\"/>\n",
              "    <path d=\"M18.56 5.44l.94 2.06.94-2.06 2.06-.94-2.06-.94-.94-2.06-.94 2.06-2.06.94zm-11 1L8.5 8.5l.94-2.06 2.06-.94-2.06-.94L8.5 2.5l-.94 2.06-2.06.94zm10 10l.94 2.06.94-2.06 2.06-.94-2.06-.94-.94-2.06-.94 2.06-2.06.94z\"/><path d=\"M17.41 7.96l-1.37-1.37c-.4-.4-.92-.59-1.43-.59-.52 0-1.04.2-1.43.59L10.3 9.45l-7.72 7.72c-.78.78-.78 2.05 0 2.83L4 21.41c.39.39.9.59 1.41.59.51 0 1.02-.2 1.41-.59l7.78-7.78 2.81-2.81c.8-.78.8-2.07 0-2.86zM5.41 20L4 18.59l7.72-7.72 1.47 1.35L5.41 20z\"/>\n",
              "  </svg>\n",
              "      </button>\n",
              "      \n",
              "  <style>\n",
              "    .colab-df-container {\n",
              "      display:flex;\n",
              "      flex-wrap:wrap;\n",
              "      gap: 12px;\n",
              "    }\n",
              "\n",
              "    .colab-df-convert {\n",
              "      background-color: #E8F0FE;\n",
              "      border: none;\n",
              "      border-radius: 50%;\n",
              "      cursor: pointer;\n",
              "      display: none;\n",
              "      fill: #1967D2;\n",
              "      height: 32px;\n",
              "      padding: 0 0 0 0;\n",
              "      width: 32px;\n",
              "    }\n",
              "\n",
              "    .colab-df-convert:hover {\n",
              "      background-color: #E2EBFA;\n",
              "      box-shadow: 0px 1px 2px rgba(60, 64, 67, 0.3), 0px 1px 3px 1px rgba(60, 64, 67, 0.15);\n",
              "      fill: #174EA6;\n",
              "    }\n",
              "\n",
              "    [theme=dark] .colab-df-convert {\n",
              "      background-color: #3B4455;\n",
              "      fill: #D2E3FC;\n",
              "    }\n",
              "\n",
              "    [theme=dark] .colab-df-convert:hover {\n",
              "      background-color: #434B5C;\n",
              "      box-shadow: 0px 1px 3px 1px rgba(0, 0, 0, 0.15);\n",
              "      filter: drop-shadow(0px 1px 2px rgba(0, 0, 0, 0.3));\n",
              "      fill: #FFFFFF;\n",
              "    }\n",
              "  </style>\n",
              "\n",
              "      <script>\n",
              "        const buttonEl =\n",
              "          document.querySelector('#df-8575bf3c-9c20-462f-a75b-7c58e4b27820 button.colab-df-convert');\n",
              "        buttonEl.style.display =\n",
              "          google.colab.kernel.accessAllowed ? 'block' : 'none';\n",
              "\n",
              "        async function convertToInteractive(key) {\n",
              "          const element = document.querySelector('#df-8575bf3c-9c20-462f-a75b-7c58e4b27820');\n",
              "          const dataTable =\n",
              "            await google.colab.kernel.invokeFunction('convertToInteractive',\n",
              "                                                     [key], {});\n",
              "          if (!dataTable) return;\n",
              "\n",
              "          const docLinkHtml = 'Like what you see? Visit the ' +\n",
              "            '<a target=\"_blank\" href=https://colab.research.google.com/notebooks/data_table.ipynb>data table notebook</a>'\n",
              "            + ' to learn more about interactive tables.';\n",
              "          element.innerHTML = '';\n",
              "          dataTable['output_type'] = 'display_data';\n",
              "          await google.colab.output.renderOutput(dataTable, element);\n",
              "          const docLink = document.createElement('div');\n",
              "          docLink.innerHTML = docLinkHtml;\n",
              "          element.appendChild(docLink);\n",
              "        }\n",
              "      </script>\n",
              "    </div>\n",
              "  </div>\n",
              "  "
            ],
            "text/plain": [
              "                Close\n",
              "Date                 \n",
              "1980-03-17   0.325521\n",
              "1980-03-18   0.322917\n",
              "1980-03-19   0.330729\n",
              "1980-03-20   0.329427\n",
              "1980-03-21   0.317708\n",
              "...               ...\n",
              "2020-03-26  55.540001\n",
              "2020-03-27  52.369999\n",
              "2020-03-30  55.490002\n",
              "2020-03-31  54.119999\n",
              "2020-04-01  51.880001\n",
              "\n",
              "[10098 rows x 1 columns]"
            ]
          },
          "execution_count": 15,
          "metadata": {},
          "output_type": "execute_result"
        }
      ],
      "source": [
        "df"
      ]
    },
    {
      "cell_type": "code",
      "execution_count": null,
      "metadata": {
        "colab": {
          "base_uri": "https://localhost:8080/"
        },
        "id": "UIddEC4nKWnJ",
        "outputId": "e2d83edf-b6fc-4a8f-ac07-2386a1129162"
      },
      "outputs": [
        {
          "name": "stderr",
          "output_type": "stream",
          "text": [
            "<ipython-input-16-ce7f8a17444b>:6: SettingWithCopyWarning: \n",
            "A value is trying to be set on a copy of a slice from a DataFrame.\n",
            "Try using .loc[row_indexer,col_indexer] = value instead\n",
            "\n",
            "See the caveats in the documentation: https://pandas.pydata.org/pandas-docs/stable/user_guide/indexing.html#returning-a-view-versus-a-copy\n",
            "  df['Close'] = scaler.fit_transform(df[['Close']])\n"
          ]
        }
      ],
      "source": [
        "seed = 42\n",
        "np.random.seed(seed)\n",
        "\n",
        "# Normalisasi Dataset\n",
        "scaler = MinMaxScaler()\n",
        "df['Close'] = scaler.fit_transform(df[['Close']])\n",
        "\n",
        "window_size = 5\n",
        "horizon = 1"
      ]
    },
    {
      "cell_type": "code",
      "execution_count": null,
      "metadata": {
        "id": "h8f4yWGg1jM4"
      },
      "outputs": [],
      "source": [
        "def split(sequence, window_size, horizon):\n",
        "    X, y = [], []\n",
        "    for i in range(len(sequence)):\n",
        "        end_idx = i + window_size\n",
        "        out_end_idx = end_idx + horizon\n",
        "        if out_end_idx > len(sequence):\n",
        "            break\n",
        "        seq_x, seq_y = sequence[i:end_idx], sequence[end_idx:out_end_idx]\n",
        "        X.append(seq_x)\n",
        "        y.append(seq_y)\n",
        "    return np.array(X), np.array(y)"
      ]
    },
    {
      "cell_type": "code",
      "execution_count": null,
      "metadata": {
        "id": "0gbbi82t7EQV"
      },
      "outputs": [],
      "source": [
        "X, y = split(df['Close'].values, window_size, horizon)\n",
        "\n",
        "# Splitting Dataset Into 80% Traininng, 10% Validation, and 10% Test as mentioned in question\n",
        "train = int(0.8 * len(X))\n",
        "val = int(0.1 * len(X))\n",
        "test = len(X) - train - val\n",
        "\n",
        "X_train, y_train = X[:train], y[:train]\n",
        "X_val, y_val = X[train:train+val], y[train:train+val]\n",
        "X_test, y_test = X[train+val:], y[train+val:]"
      ]
    },
    {
      "cell_type": "markdown",
      "metadata": {
        "id": "B_vMMhNOMtB2"
      },
      "source": [
        "## 1b Create Baseline\n",
        "----\n",
        "Membuat baseline yang mana akan di optimalisasi di step berikutnya"
      ]
    },
    {
      "cell_type": "code",
      "execution_count": null,
      "metadata": {
        "colab": {
          "base_uri": "https://localhost:8080/"
        },
        "id": "Z0Ul-QD7RKv6",
        "outputId": "fbf61402-c8fc-42ad-b0cb-79ff1b4f1fca"
      },
      "outputs": [
        {
          "name": "stderr",
          "output_type": "stream",
          "text": [
            "WARNING:tensorflow:Layer lstm will not use cuDNN kernels since it doesn't meet the criteria. It will use a generic GPU kernel as fallback when running on GPU.\n"
          ]
        },
        {
          "name": "stdout",
          "output_type": "stream",
          "text": [
            "Epoch 1/30\n",
            "253/253 [==============================] - 10s 13ms/step - loss: 0.0037 - val_loss: 6.5514e-05\n",
            "Epoch 2/30\n",
            "253/253 [==============================] - 3s 11ms/step - loss: 1.1918e-04 - val_loss: 6.2367e-05\n",
            "Epoch 3/30\n",
            "253/253 [==============================] - 5s 20ms/step - loss: 1.1761e-04 - val_loss: 1.1104e-04\n",
            "Epoch 4/30\n",
            "253/253 [==============================] - 3s 12ms/step - loss: 1.2134e-04 - val_loss: 7.2685e-05\n",
            "Epoch 5/30\n",
            "253/253 [==============================] - 5s 18ms/step - loss: 1.1804e-04 - val_loss: 5.8807e-05\n",
            "Epoch 6/30\n",
            "253/253 [==============================] - 5s 19ms/step - loss: 1.1583e-04 - val_loss: 9.1160e-05\n",
            "Epoch 7/30\n",
            "253/253 [==============================] - 4s 15ms/step - loss: 1.1660e-04 - val_loss: 6.0816e-05\n",
            "Epoch 8/30\n",
            "253/253 [==============================] - 3s 12ms/step - loss: 1.0615e-04 - val_loss: 5.3571e-05\n",
            "Epoch 9/30\n",
            "253/253 [==============================] - 4s 16ms/step - loss: 1.0753e-04 - val_loss: 5.2741e-05\n",
            "Epoch 10/30\n",
            "253/253 [==============================] - 7s 29ms/step - loss: 1.0632e-04 - val_loss: 5.6670e-05\n",
            "Epoch 11/30\n",
            "253/253 [==============================] - 5s 19ms/step - loss: 1.0467e-04 - val_loss: 5.1145e-05\n",
            "Epoch 12/30\n",
            "253/253 [==============================] - 4s 16ms/step - loss: 9.9240e-05 - val_loss: 5.1193e-05\n",
            "Epoch 13/30\n",
            "253/253 [==============================] - 6s 25ms/step - loss: 9.7089e-05 - val_loss: 6.7359e-05\n",
            "Epoch 14/30\n",
            "253/253 [==============================] - 5s 18ms/step - loss: 9.6792e-05 - val_loss: 8.7441e-05\n",
            "Epoch 15/30\n",
            "253/253 [==============================] - 5s 21ms/step - loss: 9.4267e-05 - val_loss: 4.6483e-05\n",
            "Epoch 16/30\n",
            "253/253 [==============================] - 4s 17ms/step - loss: 8.5320e-05 - val_loss: 4.4942e-05\n",
            "Epoch 17/30\n",
            "253/253 [==============================] - 7s 28ms/step - loss: 8.7324e-05 - val_loss: 8.5125e-05\n",
            "Epoch 18/30\n",
            "253/253 [==============================] - 5s 19ms/step - loss: 8.9490e-05 - val_loss: 5.5323e-05\n",
            "Epoch 19/30\n",
            "253/253 [==============================] - 3s 12ms/step - loss: 8.9775e-05 - val_loss: 1.0573e-04\n",
            "Epoch 20/30\n",
            "253/253 [==============================] - 3s 12ms/step - loss: 8.5125e-05 - val_loss: 4.1607e-05\n",
            "Epoch 21/30\n",
            "253/253 [==============================] - 3s 12ms/step - loss: 8.5805e-05 - val_loss: 4.0907e-05\n",
            "Epoch 22/30\n",
            "253/253 [==============================] - 5s 18ms/step - loss: 8.2255e-05 - val_loss: 4.6506e-05\n",
            "Epoch 23/30\n",
            "253/253 [==============================] - 3s 12ms/step - loss: 8.3387e-05 - val_loss: 4.3731e-05\n",
            "Epoch 24/30\n",
            "253/253 [==============================] - 3s 12ms/step - loss: 8.0530e-05 - val_loss: 7.5288e-05\n",
            "Epoch 25/30\n",
            "253/253 [==============================] - 3s 11ms/step - loss: 8.3845e-05 - val_loss: 3.9379e-05\n",
            "Epoch 26/30\n",
            "253/253 [==============================] - 5s 18ms/step - loss: 7.9130e-05 - val_loss: 4.0323e-05\n",
            "Epoch 27/30\n",
            "253/253 [==============================] - 3s 13ms/step - loss: 7.9916e-05 - val_loss: 4.6564e-05\n",
            "Epoch 28/30\n",
            "253/253 [==============================] - 3s 12ms/step - loss: 8.1519e-05 - val_loss: 4.6899e-05\n",
            "Epoch 29/30\n",
            "253/253 [==============================] - 3s 11ms/step - loss: 8.1178e-05 - val_loss: 5.2240e-05\n",
            "Epoch 30/30\n",
            "253/253 [==============================] - 4s 16ms/step - loss: 7.5422e-05 - val_loss: 3.8547e-05\n"
          ]
        },
        {
          "data": {
            "text/plain": [
              "<keras.callbacks.History at 0x7f457e701e10>"
            ]
          },
          "execution_count": 20,
          "metadata": {},
          "output_type": "execute_result"
        }
      ],
      "source": [
        "# Inisialisasi model\n",
        "model_baseline = Sequential()\n",
        "\n",
        "# Tambahkan layer LSTM dengan ReLU dan dropout\n",
        "model_baseline.add(LSTM(units=50, activation='relu', input_shape=(window_size, 1)))\n",
        "\n",
        "# Tambahkan layer output dengan satu node Perceptron\n",
        "model_baseline.add(Dense(units=1))\n",
        "\n",
        "# Compile model\n",
        "model_baseline.compile(optimizer='adam', loss='mean_squared_error')\n",
        "\n",
        "# Train model\n",
        "model_baseline.fit(X_train, y_train, epochs=30, batch_size=32, validation_data=(X_val, y_val))\n"
      ]
    },
    {
      "cell_type": "code",
      "execution_count": null,
      "metadata": {
        "colab": {
          "base_uri": "https://localhost:8080/"
        },
        "id": "HmpxT7e_8PsD",
        "outputId": "ee5758db-1b42-404a-f678-ea52ea9021ca"
      },
      "outputs": [
        {
          "name": "stdout",
          "output_type": "stream",
          "text": [
            "32/32 [==============================] - 0s 2ms/step\n"
          ]
        }
      ],
      "source": [
        "# Predict model dengan test data\n",
        "y_predictBaseline = model_baseline.predict(X_test)\n",
        "\n",
        "# Transform Data karena sebelum saya di scaling\n",
        "y_test = scaler.inverse_transform(y_test)\n",
        "y_pred_baseline = scaler.inverse_transform(y_predictBaseline)\n",
        "\n",
        "rmse_baseline = np.sqrt(mean_squared_error(y_test, y_predictBaseline))\n",
        "r2_baseline = r2_score(y_test, y_predictBaseline)\n",
        "mae_baseline = mean_absolute_error(y_test, y_predictBaseline)\n",
        "mape_baseline = np.mean(np.abs((y_test - y_predictBaseline) / y_test)) * 100"
      ]
    },
    {
      "cell_type": "code",
      "execution_count": null,
      "metadata": {
        "colab": {
          "base_uri": "https://localhost:8080/"
        },
        "id": "kWarDrhM9A_d",
        "outputId": "cbb54383-8388-44da-e57e-82a738e918d4"
      },
      "outputs": [
        {
          "name": "stdout",
          "output_type": "stream",
          "text": [
            "\t Baseline Model Evaluation\n",
            "============================================\n",
            "RMSE\t\t\t: 44.854250763137784\n",
            "R2 Score\t\t: -25.32777909802679\n",
            "MAE\t\t\t: 44.017054392884276\n",
            "MAPE\t\t\t: 98.66726979993025\n"
          ]
        }
      ],
      "source": [
        "print(\"\\t Baseline Model Evaluation\")\n",
        "print(\"============================================\")\n",
        "print(\"RMSE\\t\\t\\t:\", rmse_baseline)\n",
        "print(\"R2 Score\\t\\t:\", r2_baseline)\n",
        "print(\"MAE\\t\\t\\t:\", mae_baseline)\n",
        "print(\"MAPE\\t\\t\\t:\", mape_baseline)"
      ]
    },
    {
      "cell_type": "markdown",
      "metadata": {
        "id": "pFCSFE_29uCm"
      },
      "source": [
        "## Modify Baseline Architecture (Optimized Architecture)\n",
        "----"
      ]
    },
    {
      "cell_type": "code",
      "execution_count": null,
      "metadata": {
        "colab": {
          "base_uri": "https://localhost:8080/"
        },
        "id": "yaKy3DXC93rC",
        "outputId": "f977b7f2-d673-43b1-da44-cd40a1b4c1bb"
      },
      "outputs": [
        {
          "name": "stderr",
          "output_type": "stream",
          "text": [
            "WARNING:tensorflow:Layer lstm_1 will not use cuDNN kernels since it doesn't meet the criteria. It will use a generic GPU kernel as fallback when running on GPU.\n",
            "WARNING:tensorflow:Layer lstm_2 will not use cuDNN kernels since it doesn't meet the criteria. It will use a generic GPU kernel as fallback when running on GPU.\n"
          ]
        },
        {
          "name": "stdout",
          "output_type": "stream",
          "text": [
            "Epoch 1/50\n",
            "253/253 [==============================] - 12s 25ms/step - loss: 0.0027 - val_loss: 1.0690e-04\n",
            "Epoch 2/50\n",
            "253/253 [==============================] - 8s 31ms/step - loss: 2.2263e-04 - val_loss: 3.0800e-04\n",
            "Epoch 3/50\n",
            "253/253 [==============================] - 6s 24ms/step - loss: 2.2412e-04 - val_loss: 1.6051e-04\n",
            "Epoch 4/50\n",
            "253/253 [==============================] - 8s 32ms/step - loss: 2.0023e-04 - val_loss: 7.9308e-05\n",
            "Epoch 5/50\n",
            "253/253 [==============================] - 6s 24ms/step - loss: 1.9963e-04 - val_loss: 3.3329e-04\n",
            "Epoch 6/50\n",
            "253/253 [==============================] - 8s 31ms/step - loss: 1.9218e-04 - val_loss: 3.4237e-04\n",
            "Epoch 7/50\n",
            "253/253 [==============================] - 8s 31ms/step - loss: 1.9046e-04 - val_loss: 6.7857e-04\n",
            "Epoch 8/50\n",
            "253/253 [==============================] - 8s 31ms/step - loss: 1.7475e-04 - val_loss: 9.0269e-05\n",
            "Epoch 9/50\n",
            "253/253 [==============================] - 6s 24ms/step - loss: 1.5143e-04 - val_loss: 6.1899e-05\n",
            "Epoch 10/50\n",
            "253/253 [==============================] - 8s 31ms/step - loss: 1.6740e-04 - val_loss: 7.7036e-05\n",
            "Epoch 11/50\n",
            "253/253 [==============================] - 6s 24ms/step - loss: 1.4398e-04 - val_loss: 5.7797e-05\n",
            "Epoch 12/50\n",
            "253/253 [==============================] - 8s 31ms/step - loss: 1.3371e-04 - val_loss: 8.6336e-05\n",
            "Epoch 13/50\n",
            "253/253 [==============================] - 6s 24ms/step - loss: 1.4308e-04 - val_loss: 5.4945e-05\n",
            "Epoch 14/50\n",
            "253/253 [==============================] - 8s 31ms/step - loss: 1.2357e-04 - val_loss: 6.6932e-05\n",
            "Epoch 15/50\n",
            "253/253 [==============================] - 6s 24ms/step - loss: 1.0051e-04 - val_loss: 5.0653e-05\n",
            "Epoch 16/50\n",
            "253/253 [==============================] - 8s 31ms/step - loss: 9.3530e-05 - val_loss: 2.7319e-04\n",
            "Epoch 17/50\n",
            "253/253 [==============================] - 6s 23ms/step - loss: 1.0752e-04 - val_loss: 1.7625e-04\n",
            "Epoch 18/50\n",
            "253/253 [==============================] - 8s 32ms/step - loss: 1.0398e-04 - val_loss: 8.9805e-05\n",
            "Epoch 19/50\n",
            "253/253 [==============================] - 6s 24ms/step - loss: 9.9669e-05 - val_loss: 5.7214e-05\n",
            "Epoch 20/50\n",
            "253/253 [==============================] - 8s 31ms/step - loss: 9.5297e-05 - val_loss: 3.4335e-05\n",
            "Epoch 21/50\n",
            "253/253 [==============================] - 6s 24ms/step - loss: 8.4158e-05 - val_loss: 5.9629e-05\n",
            "Epoch 22/50\n",
            "253/253 [==============================] - 8s 31ms/step - loss: 8.7898e-05 - val_loss: 2.0660e-04\n",
            "Epoch 23/50\n",
            "253/253 [==============================] - 7s 27ms/step - loss: 1.0316e-04 - val_loss: 3.4343e-05\n",
            "Epoch 24/50\n",
            "253/253 [==============================] - 8s 31ms/step - loss: 9.8869e-05 - val_loss: 4.3615e-05\n",
            "Epoch 25/50\n",
            "253/253 [==============================] - 6s 24ms/step - loss: 9.5778e-05 - val_loss: 7.5400e-05\n",
            "Epoch 26/50\n",
            "253/253 [==============================] - 10s 39ms/step - loss: 8.3811e-05 - val_loss: 1.5862e-04\n",
            "Epoch 27/50\n",
            "253/253 [==============================] - 7s 28ms/step - loss: 8.8116e-05 - val_loss: 7.5762e-05\n",
            "Epoch 28/50\n",
            "253/253 [==============================] - 7s 26ms/step - loss: 8.4175e-05 - val_loss: 3.8995e-05\n",
            "Epoch 29/50\n",
            "253/253 [==============================] - 7s 29ms/step - loss: 8.8501e-05 - val_loss: 3.8571e-05\n",
            "Epoch 30/50\n",
            "253/253 [==============================] - 7s 26ms/step - loss: 9.1942e-05 - val_loss: 3.5750e-05\n",
            "Epoch 31/50\n",
            "253/253 [==============================] - 7s 28ms/step - loss: 9.7055e-05 - val_loss: 4.9834e-05\n",
            "Epoch 32/50\n",
            "253/253 [==============================] - 7s 26ms/step - loss: 9.6631e-05 - val_loss: 3.5988e-05\n",
            "Epoch 33/50\n",
            "253/253 [==============================] - 7s 28ms/step - loss: 7.7866e-05 - val_loss: 1.4290e-04\n",
            "Epoch 34/50\n",
            "253/253 [==============================] - 7s 26ms/step - loss: 8.0054e-05 - val_loss: 3.4880e-05\n",
            "Epoch 35/50\n",
            "253/253 [==============================] - 7s 29ms/step - loss: 9.0524e-05 - val_loss: 5.5905e-05\n",
            "Epoch 36/50\n",
            "253/253 [==============================] - 6s 26ms/step - loss: 9.2382e-05 - val_loss: 3.3583e-05\n",
            "Epoch 37/50\n",
            "253/253 [==============================] - 7s 30ms/step - loss: 9.2467e-05 - val_loss: 3.2383e-05\n",
            "Epoch 38/50\n",
            "253/253 [==============================] - 6s 25ms/step - loss: 7.6162e-05 - val_loss: 3.4806e-05\n",
            "Epoch 39/50\n",
            "253/253 [==============================] - 7s 28ms/step - loss: 9.5366e-05 - val_loss: 6.0065e-05\n",
            "Epoch 40/50\n",
            "253/253 [==============================] - 7s 26ms/step - loss: 9.6786e-05 - val_loss: 5.0418e-05\n",
            "Epoch 41/50\n",
            "253/253 [==============================] - 7s 27ms/step - loss: 8.0070e-05 - val_loss: 3.7552e-05\n",
            "Epoch 42/50\n",
            "253/253 [==============================] - 7s 26ms/step - loss: 8.1075e-05 - val_loss: 3.6435e-05\n",
            "Epoch 43/50\n",
            "253/253 [==============================] - 7s 26ms/step - loss: 8.5203e-05 - val_loss: 4.2204e-05\n",
            "Epoch 44/50\n",
            "253/253 [==============================] - 7s 28ms/step - loss: 8.9140e-05 - val_loss: 4.3398e-05\n",
            "Epoch 45/50\n",
            "253/253 [==============================] - 7s 27ms/step - loss: 9.1165e-05 - val_loss: 7.7739e-05\n",
            "Epoch 46/50\n",
            "253/253 [==============================] - 8s 33ms/step - loss: 9.1882e-05 - val_loss: 3.2311e-05\n",
            "Epoch 47/50\n",
            "253/253 [==============================] - 6s 24ms/step - loss: 7.2979e-05 - val_loss: 6.0061e-05\n",
            "Epoch 48/50\n",
            "253/253 [==============================] - 8s 31ms/step - loss: 9.3972e-05 - val_loss: 6.8199e-05\n",
            "Epoch 49/50\n",
            "253/253 [==============================] - 6s 23ms/step - loss: 8.2131e-05 - val_loss: 5.5798e-05\n",
            "Epoch 50/50\n",
            "253/253 [==============================] - 8s 31ms/step - loss: 7.4361e-05 - val_loss: 6.4336e-05\n"
          ]
        },
        {
          "data": {
            "text/plain": [
              "<keras.callbacks.History at 0x7f44f2cb8df0>"
            ]
          },
          "execution_count": 28,
          "metadata": {},
          "output_type": "execute_result"
        }
      ],
      "source": [
        "modelMod = Sequential()\n",
        "modelMod.add(LSTM(256, activation='relu', return_sequences=True, input_shape=(window_size, 1)))\n",
        "modelMod.add(LSTM(128, activation='relu'))\n",
        "modelMod.add(Dense(64, activation='relu'))\n",
        "modelMod.add(Dense(1))\n",
        "\n",
        "modelMod.compile(optimizer='adam', loss='mse')\n",
        "\n",
        "modelMod.fit(X_train, y_train, epochs=50, batch_size=32, validation_data=(X_val, y_val))"
      ]
    },
    {
      "cell_type": "code",
      "execution_count": null,
      "metadata": {
        "colab": {
          "base_uri": "https://localhost:8080/"
        },
        "id": "k0TxpZLP-pRc",
        "outputId": "c7a48f92-414b-493c-d428-9b2ed82c34c2"
      },
      "outputs": [
        {
          "name": "stdout",
          "output_type": "stream",
          "text": [
            "32/32 [==============================] - 0s 2ms/step\n"
          ]
        }
      ],
      "source": [
        "# Predict model dengan test data\n",
        "y_predictMod1 = model_baseline.predict(X_test)\n",
        "\n",
        "# Transform Data karena sebelumnya di scaling\n",
        "y_predictMod1 = scaler.inverse_transform(y_predictMod1)\n",
        "\n",
        "rmse_Mod1 = np.sqrt(mean_squared_error(y_test, y_predictMod1))\n",
        "r2_Mod1 = r2_score(y_test, y_predictMod1)\n",
        "mae_Mod1 = mean_absolute_error(y_test, y_predictMod1)\n",
        "mape_Mod1 = np.mean(np.abs((y_test - y_predictMod1) / y_test)) * 100"
      ]
    },
    {
      "cell_type": "code",
      "execution_count": null,
      "metadata": {
        "colab": {
          "base_uri": "https://localhost:8080/"
        },
        "id": "RGH4JXMCBPMS",
        "outputId": "4c4fb049-fc1e-4b64-a4b8-ca0dbd75be23"
      },
      "outputs": [
        {
          "name": "stdout",
          "output_type": "stream",
          "text": [
            "\t Modified Model 1 Evaluation\n",
            "============================================\n",
            "RMSE\t\t\t: 0.9565572979921427\n",
            "R2 Score\t\t: 0.9880262829561169\n",
            "MAE\t\t\t: 0.6003277485913563\n",
            "MAPE\t\t\t: 1.293403394079131\n"
          ]
        }
      ],
      "source": [
        "print(\"\\t Modified Model 1 Evaluation\")\n",
        "print(\"============================================\")\n",
        "print(\"RMSE\\t\\t\\t:\", rmse_Mod1)\n",
        "print(\"R2 Score\\t\\t:\", r2_Mod1)\n",
        "print(\"MAE\\t\\t\\t:\", mae_Mod1)\n",
        "print(\"MAPE\\t\\t\\t:\", mape_Mod1)"
      ]
    },
    {
      "cell_type": "markdown",
      "metadata": {
        "id": "8aMG2VcoDgNv"
      },
      "source": [
        "**Model 2** : Menggunakan GridSearchCV untuk menentukan hyperparameterapa saja yang harus dituning sehingga meningkatkan akurasi pada metrik yang ditentukan"
      ]
    },
    {
      "cell_type": "markdown",
      "metadata": {
        "id": "6ylKI9J7ZXzS"
      },
      "source": [
        "References:\n",
        "\n",
        "*   https://faroit.com/keras-docs/1.0.1/getting-started/sequential-model-guide/\n",
        "*   https://scikit-learn.org/stable/modules/generated/sklearn.metrics.mean_squared_error.html\n",
        "\n"
      ]
    },
    {
      "cell_type": "code",
      "execution_count": null,
      "metadata": {
        "colab": {
          "base_uri": "https://localhost:8080/"
        },
        "id": "Obn28GafDlv6",
        "outputId": "54f490db-86bd-425e-ae7e-017704deb4ff"
      },
      "outputs": [
        {
          "name": "stderr",
          "output_type": "stream",
          "text": [
            "<ipython-input-43-d23a4543186f>:11: DeprecationWarning: KerasRegressor is deprecated, use Sci-Keras (https://github.com/adriangb/scikeras) instead. See https://www.adriangb.com/scikeras/stable/migration.html for help migrating.\n",
            "  modelMod2 = KerasRegressor(build_fn=model, epochs=50, batch_size=32, verbose=0)\n",
            "WARNING:tensorflow:Layer lstm_3 will not use cuDNN kernels since it doesn't meet the criteria. It will use a generic GPU kernel as fallback when running on GPU.\n",
            "WARNING:tensorflow:Layer lstm_4 will not use cuDNN kernels since it doesn't meet the criteria. It will use a generic GPU kernel as fallback when running on GPU.\n",
            "WARNING:tensorflow:Layer lstm_5 will not use cuDNN kernels since it doesn't meet the criteria. It will use a generic GPU kernel as fallback when running on GPU.\n",
            "WARNING:tensorflow:Layer lstm_6 will not use cuDNN kernels since it doesn't meet the criteria. It will use a generic GPU kernel as fallback when running on GPU.\n",
            "WARNING:tensorflow:Layer lstm_7 will not use cuDNN kernels since it doesn't meet the criteria. It will use a generic GPU kernel as fallback when running on GPU.\n",
            "WARNING:tensorflow:Layer lstm_8 will not use cuDNN kernels since it doesn't meet the criteria. It will use a generic GPU kernel as fallback when running on GPU.\n",
            "WARNING:tensorflow:Layer lstm_9 will not use cuDNN kernels since it doesn't meet the criteria. It will use a generic GPU kernel as fallback when running on GPU.\n",
            "WARNING:tensorflow:Layer lstm_10 will not use cuDNN kernels since it doesn't meet the criteria. It will use a generic GPU kernel as fallback when running on GPU.\n",
            "WARNING:tensorflow:Layer lstm_11 will not use cuDNN kernels since it doesn't meet the criteria. It will use a generic GPU kernel as fallback when running on GPU.\n",
            "WARNING:tensorflow:Layer lstm_12 will not use cuDNN kernels since it doesn't meet the criteria. It will use a generic GPU kernel as fallback when running on GPU.\n",
            "WARNING:tensorflow:Layer lstm_13 will not use cuDNN kernels since it doesn't meet the criteria. It will use a generic GPU kernel as fallback when running on GPU.\n",
            "WARNING:tensorflow:Layer lstm_14 will not use cuDNN kernels since it doesn't meet the criteria. It will use a generic GPU kernel as fallback when running on GPU.\n",
            "WARNING:tensorflow:Layer lstm_15 will not use cuDNN kernels since it doesn't meet the criteria. It will use a generic GPU kernel as fallback when running on GPU.\n",
            "WARNING:tensorflow:Layer lstm_16 will not use cuDNN kernels since it doesn't meet the criteria. It will use a generic GPU kernel as fallback when running on GPU.\n",
            "WARNING:tensorflow:Layer lstm_17 will not use cuDNN kernels since it doesn't meet the criteria. It will use a generic GPU kernel as fallback when running on GPU.\n",
            "WARNING:tensorflow:Layer lstm_18 will not use cuDNN kernels since it doesn't meet the criteria. It will use a generic GPU kernel as fallback when running on GPU.\n",
            "WARNING:tensorflow:Layer lstm_19 will not use cuDNN kernels since it doesn't meet the criteria. It will use a generic GPU kernel as fallback when running on GPU.\n",
            "WARNING:tensorflow:Layer lstm_20 will not use cuDNN kernels since it doesn't meet the criteria. It will use a generic GPU kernel as fallback when running on GPU.\n",
            "WARNING:tensorflow:Layer lstm_21 will not use cuDNN kernels since it doesn't meet the criteria. It will use a generic GPU kernel as fallback when running on GPU.\n",
            "WARNING:tensorflow:Layer lstm_22 will not use cuDNN kernels since it doesn't meet the criteria. It will use a generic GPU kernel as fallback when running on GPU.\n",
            "WARNING:tensorflow:Layer lstm_23 will not use cuDNN kernels since it doesn't meet the criteria. It will use a generic GPU kernel as fallback when running on GPU.\n",
            "WARNING:tensorflow:Layer lstm_24 will not use cuDNN kernels since it doesn't meet the criteria. It will use a generic GPU kernel as fallback when running on GPU.\n",
            "WARNING:tensorflow:Layer lstm_25 will not use cuDNN kernels since it doesn't meet the criteria. It will use a generic GPU kernel as fallback when running on GPU.\n",
            "WARNING:tensorflow:Layer lstm_26 will not use cuDNN kernels since it doesn't meet the criteria. It will use a generic GPU kernel as fallback when running on GPU.\n",
            "WARNING:tensorflow:Layer lstm_27 will not use cuDNN kernels since it doesn't meet the criteria. It will use a generic GPU kernel as fallback when running on GPU.\n",
            "WARNING:tensorflow:Layer lstm_28 will not use cuDNN kernels since it doesn't meet the criteria. It will use a generic GPU kernel as fallback when running on GPU.\n",
            "WARNING:tensorflow:Layer lstm_29 will not use cuDNN kernels since it doesn't meet the criteria. It will use a generic GPU kernel as fallback when running on GPU.\n",
            "WARNING:tensorflow:Layer lstm_30 will not use cuDNN kernels since it doesn't meet the criteria. It will use a generic GPU kernel as fallback when running on GPU.\n",
            "WARNING:tensorflow:Layer lstm_31 will not use cuDNN kernels since it doesn't meet the criteria. It will use a generic GPU kernel as fallback when running on GPU.\n",
            "WARNING:tensorflow:Layer lstm_32 will not use cuDNN kernels since it doesn't meet the criteria. It will use a generic GPU kernel as fallback when running on GPU.\n",
            "WARNING:tensorflow:Layer lstm_33 will not use cuDNN kernels since it doesn't meet the criteria. It will use a generic GPU kernel as fallback when running on GPU.\n",
            "WARNING:tensorflow:Layer lstm_34 will not use cuDNN kernels since it doesn't meet the criteria. It will use a generic GPU kernel as fallback when running on GPU.\n",
            "WARNING:tensorflow:Layer lstm_35 will not use cuDNN kernels since it doesn't meet the criteria. It will use a generic GPU kernel as fallback when running on GPU.\n",
            "WARNING:tensorflow:Layer lstm_36 will not use cuDNN kernels since it doesn't meet the criteria. It will use a generic GPU kernel as fallback when running on GPU.\n",
            "WARNING:tensorflow:Layer lstm_37 will not use cuDNN kernels since it doesn't meet the criteria. It will use a generic GPU kernel as fallback when running on GPU.\n",
            "WARNING:tensorflow:Layer lstm_38 will not use cuDNN kernels since it doesn't meet the criteria. It will use a generic GPU kernel as fallback when running on GPU.\n",
            "WARNING:tensorflow:Layer lstm_39 will not use cuDNN kernels since it doesn't meet the criteria. It will use a generic GPU kernel as fallback when running on GPU.\n",
            "WARNING:tensorflow:Layer lstm_40 will not use cuDNN kernels since it doesn't meet the criteria. It will use a generic GPU kernel as fallback when running on GPU.\n"
          ]
        },
        {
          "name": "stdout",
          "output_type": "stream",
          "text": [
            "Best score: -0.000134, using params: {'optimizer': 'adam', 'units': 256}\n"
          ]
        }
      ],
      "source": [
        "\n",
        "def model(units=64, optimizer='adam'):\n",
        "    model = Sequential()\n",
        "    model.add(LSTM(units, activation='relu', return_sequences=True, input_shape=(window_size, 1)))\n",
        "    model.add(LSTM(units//4, activation='relu'))\n",
        "    model.add(Dense(units//6, activation='relu'))\n",
        "    model.add(Dense(1))\n",
        "    model.compile(optimizer=optimizer, loss='mse')\n",
        "    return model\n",
        "\n",
        "modelMod2 = KerasRegressor(build_fn=model, epochs=50, batch_size=32, verbose=0)\n",
        "\n",
        "# Pilih hyperparameter yang akan digunakan pada gridsearchcv\n",
        "param_grid = {\n",
        "    'units': [64, 128, 256],\n",
        "    'optimizer': ['adam', 'rmsprop']\n",
        "}\n",
        "\n",
        "grid_search = GridSearchCV(estimator=modelMod2, param_grid=param_grid, cv=3)\n",
        "grid_result = grid_search.fit(X_train, y_train)\n",
        "\n",
        "print(\"Best score: %f, using params: %s\" % (grid_result.best_score_, grid_result.best_params_))"
      ]
    },
    {
      "cell_type": "code",
      "execution_count": null,
      "metadata": {
        "colab": {
          "base_uri": "https://localhost:8080/"
        },
        "id": "lVRQ_lqhEpS0",
        "outputId": "354d6ab1-5058-4933-c4da-4f87bbd4c57f"
      },
      "outputs": [
        {
          "name": "stderr",
          "output_type": "stream",
          "text": [
            "WARNING:tensorflow:Layer lstm_41 will not use cuDNN kernels since it doesn't meet the criteria. It will use a generic GPU kernel as fallback when running on GPU.\n",
            "WARNING:tensorflow:Layer lstm_42 will not use cuDNN kernels since it doesn't meet the criteria. It will use a generic GPU kernel as fallback when running on GPU.\n"
          ]
        },
        {
          "name": "stdout",
          "output_type": "stream",
          "text": [
            "Epoch 1/50\n",
            "253/253 [==============================] - 18s 52ms/step - loss: 0.0030 - val_loss: 9.0066e-05\n",
            "Epoch 2/50\n",
            "253/253 [==============================] - 6s 26ms/step - loss: 2.0133e-04 - val_loss: 1.1459e-04\n",
            "Epoch 3/50\n",
            "253/253 [==============================] - 8s 30ms/step - loss: 1.9689e-04 - val_loss: 2.9663e-04\n",
            "Epoch 4/50\n",
            "253/253 [==============================] - 7s 26ms/step - loss: 2.1687e-04 - val_loss: 1.7523e-04\n",
            "Epoch 5/50\n",
            "253/253 [==============================] - 8s 30ms/step - loss: 1.8533e-04 - val_loss: 2.6395e-04\n",
            "Epoch 6/50\n",
            "253/253 [==============================] - 7s 27ms/step - loss: 1.8532e-04 - val_loss: 1.4302e-04\n",
            "Epoch 7/50\n",
            "253/253 [==============================] - 8s 32ms/step - loss: 1.7989e-04 - val_loss: 6.9020e-05\n",
            "Epoch 8/50\n",
            "253/253 [==============================] - 9s 36ms/step - loss: 1.5900e-04 - val_loss: 8.9763e-05\n",
            "Epoch 9/50\n",
            "253/253 [==============================] - 6s 24ms/step - loss: 1.4274e-04 - val_loss: 8.0112e-04\n",
            "Epoch 10/50\n",
            "253/253 [==============================] - 8s 32ms/step - loss: 1.4838e-04 - val_loss: 5.7281e-05\n",
            "Epoch 11/50\n",
            "253/253 [==============================] - 6s 25ms/step - loss: 1.3032e-04 - val_loss: 1.0724e-04\n",
            "Epoch 12/50\n",
            "253/253 [==============================] - 9s 34ms/step - loss: 1.2985e-04 - val_loss: 7.4900e-05\n",
            "Epoch 13/50\n",
            "253/253 [==============================] - 6s 24ms/step - loss: 1.0973e-04 - val_loss: 8.0212e-05\n",
            "Epoch 14/50\n",
            "253/253 [==============================] - 8s 32ms/step - loss: 1.1723e-04 - val_loss: 4.6982e-05\n",
            "Epoch 15/50\n",
            "253/253 [==============================] - 6s 24ms/step - loss: 1.0666e-04 - val_loss: 1.6294e-04\n",
            "Epoch 16/50\n",
            "253/253 [==============================] - 8s 33ms/step - loss: 1.1292e-04 - val_loss: 1.3993e-04\n",
            "Epoch 17/50\n",
            "253/253 [==============================] - 6s 25ms/step - loss: 9.5328e-05 - val_loss: 6.9172e-05\n",
            "Epoch 18/50\n",
            "253/253 [==============================] - 8s 31ms/step - loss: 1.0135e-04 - val_loss: 4.0245e-05\n",
            "Epoch 19/50\n",
            "253/253 [==============================] - 6s 25ms/step - loss: 1.0265e-04 - val_loss: 4.6891e-05\n",
            "Epoch 20/50\n",
            "253/253 [==============================] - 8s 31ms/step - loss: 9.4929e-05 - val_loss: 1.6166e-04\n",
            "Epoch 21/50\n",
            "253/253 [==============================] - 6s 25ms/step - loss: 9.6995e-05 - val_loss: 3.6632e-05\n",
            "Epoch 22/50\n",
            "253/253 [==============================] - 8s 31ms/step - loss: 8.2128e-05 - val_loss: 1.1823e-04\n",
            "Epoch 23/50\n",
            "253/253 [==============================] - 7s 27ms/step - loss: 9.6272e-05 - val_loss: 2.0597e-04\n",
            "Epoch 24/50\n",
            "253/253 [==============================] - 7s 29ms/step - loss: 8.7727e-05 - val_loss: 1.4269e-04\n",
            "Epoch 25/50\n",
            "253/253 [==============================] - 7s 27ms/step - loss: 1.0388e-04 - val_loss: 9.2973e-05\n",
            "Epoch 26/50\n",
            "253/253 [==============================] - 7s 29ms/step - loss: 7.8195e-05 - val_loss: 5.8058e-05\n",
            "Epoch 27/50\n",
            "253/253 [==============================] - 9s 34ms/step - loss: 8.9901e-05 - val_loss: 4.4657e-05\n",
            "Epoch 28/50\n",
            "253/253 [==============================] - 7s 28ms/step - loss: 8.5075e-05 - val_loss: 3.4482e-05\n",
            "Epoch 29/50\n",
            "253/253 [==============================] - 7s 27ms/step - loss: 7.5470e-05 - val_loss: 3.4614e-05\n",
            "Epoch 30/50\n",
            "253/253 [==============================] - 8s 30ms/step - loss: 8.4202e-05 - val_loss: 1.2991e-04\n",
            "Epoch 31/50\n",
            "253/253 [==============================] - 8s 33ms/step - loss: 9.2651e-05 - val_loss: 4.0785e-05\n",
            "Epoch 32/50\n",
            "253/253 [==============================] - 6s 24ms/step - loss: 8.8632e-05 - val_loss: 3.4828e-05\n",
            "Epoch 33/50\n",
            "253/253 [==============================] - 8s 31ms/step - loss: 9.3079e-05 - val_loss: 1.2071e-04\n",
            "Epoch 34/50\n",
            "253/253 [==============================] - 6s 24ms/step - loss: 8.7717e-05 - val_loss: 3.1199e-04\n",
            "Epoch 35/50\n",
            "253/253 [==============================] - 8s 31ms/step - loss: 8.6215e-05 - val_loss: 5.3591e-05\n",
            "Epoch 36/50\n",
            "253/253 [==============================] - 6s 24ms/step - loss: 8.7117e-05 - val_loss: 4.6035e-05\n",
            "Epoch 37/50\n",
            "253/253 [==============================] - 8s 31ms/step - loss: 8.1693e-05 - val_loss: 7.2578e-05\n",
            "Epoch 38/50\n",
            "253/253 [==============================] - 6s 24ms/step - loss: 8.2102e-05 - val_loss: 3.4893e-05\n",
            "Epoch 39/50\n",
            "253/253 [==============================] - 8s 31ms/step - loss: 7.7789e-05 - val_loss: 4.8626e-05\n",
            "Epoch 40/50\n",
            "253/253 [==============================] - 6s 24ms/step - loss: 9.0482e-05 - val_loss: 1.1750e-04\n",
            "Epoch 41/50\n",
            "253/253 [==============================] - 8s 31ms/step - loss: 8.9401e-05 - val_loss: 9.6214e-05\n",
            "Epoch 42/50\n",
            "253/253 [==============================] - 6s 24ms/step - loss: 8.2113e-05 - val_loss: 3.3730e-05\n",
            "Epoch 43/50\n",
            "253/253 [==============================] - 8s 32ms/step - loss: 9.4103e-05 - val_loss: 8.3313e-05\n",
            "Epoch 44/50\n",
            "253/253 [==============================] - 6s 24ms/step - loss: 8.6153e-05 - val_loss: 1.1949e-04\n",
            "Epoch 45/50\n",
            "253/253 [==============================] - 8s 32ms/step - loss: 7.1475e-05 - val_loss: 6.8049e-05\n",
            "Epoch 46/50\n",
            "253/253 [==============================] - 6s 24ms/step - loss: 8.5819e-05 - val_loss: 5.8079e-05\n",
            "Epoch 47/50\n",
            "253/253 [==============================] - 9s 37ms/step - loss: 8.4880e-05 - val_loss: 7.6041e-05\n",
            "Epoch 48/50\n",
            "253/253 [==============================] - 6s 25ms/step - loss: 9.5931e-05 - val_loss: 3.2585e-05\n",
            "Epoch 49/50\n",
            "253/253 [==============================] - 8s 31ms/step - loss: 7.6459e-05 - val_loss: 8.4892e-05\n",
            "Epoch 50/50\n",
            "253/253 [==============================] - 6s 24ms/step - loss: 7.9262e-05 - val_loss: 3.2340e-05\n"
          ]
        },
        {
          "data": {
            "text/plain": [
              "<keras.callbacks.History at 0x7f44f20c76d0>"
            ]
          },
          "execution_count": 45,
          "metadata": {},
          "output_type": "execute_result"
        }
      ],
      "source": [
        "best_units = grid_result.best_params_['units']\n",
        "best_optimizer = grid_result.best_params_['optimizer']\n",
        "\n",
        "modelMod2 = model(units=best_units, optimizer=best_optimizer)\n",
        "modelMod2.fit(X_train, y_train, epochs=50, batch_size=32, validation_data=(X_val, y_val))"
      ]
    },
    {
      "cell_type": "code",
      "execution_count": null,
      "metadata": {
        "colab": {
          "base_uri": "https://localhost:8080/"
        },
        "id": "HWOeN35rEqxs",
        "outputId": "be82e0de-d0d2-4c26-9e1f-89e4c5bcc80a"
      },
      "outputs": [
        {
          "name": "stdout",
          "output_type": "stream",
          "text": [
            "32/32 [==============================] - 0s 3ms/step\n",
            "   Modified Model 2 GridSCV Evaluation\n",
            "============================================\n",
            "RMSE\t\t: 0.9865935283627274\n",
            "R2 Score\t: 0.9872625193673952\n",
            "MAE\t\t: 0.5957352269994144\n",
            "MAPE\t\t: 1.2743013611176233\n"
          ]
        }
      ],
      "source": [
        "y_predictMod2 = modelMod2.predict(X_test)\n",
        "y_predictMod2 = scaler.inverse_transform(y_predictMod2)\n",
        "\n",
        "rmseMod2 = np.sqrt(mean_squared_error(y_test, y_predictMod2))\n",
        "r2Mod2 = r2_score(y_test, y_predictMod2)\n",
        "maeMod2 = mean_absolute_error(y_test, y_predictMod2)\n",
        "mapeMod2 = np.mean(np.abs((y_test - y_predictMod2) / y_test)) * 100\n",
        "\n",
        "print(\"   Modified Model 2 GridSCV Evaluation\")\n",
        "print(\"============================================\")\n",
        "print(\"RMSE\\t\\t:\", rmseMod2)\n",
        "print(\"R2 Score\\t:\", r2Mod2)\n",
        "print(\"MAE\\t\\t:\", maeMod2)\n",
        "print(\"MAPE\\t\\t:\", mapeMod2)"
      ]
    },
    {
      "cell_type": "markdown",
      "metadata": {
        "id": "-Vxf8UL6CQGI"
      },
      "source": [
        "## 1c. Evaluation"
      ]
    },
    {
      "cell_type": "code",
      "execution_count": null,
      "metadata": {
        "colab": {
          "base_uri": "https://localhost:8080/"
        },
        "id": "iugV5HBCBWzA",
        "outputId": "36e29d8e-78c0-4b0d-fd7e-16d580f01072"
      },
      "outputs": [
        {
          "name": "stdout",
          "output_type": "stream",
          "text": [
            "============================================\n",
            "\t\t EVALUATION\n",
            "============================================\n",
            "\n",
            "\n",
            "\t Baseline Model Evaluation\n",
            "============================================\n",
            "RMSE\t\t\t: 44.854250763137784\n",
            "R2 Score\t\t: -25.32777909802679\n",
            "MAE\t\t\t: 44.017054392884276\n",
            "MAPE\t\t\t: 98.66726979993025\n",
            "\t Modified Model 1 Evaluation\n",
            "============================================\n",
            "RMSE\t\t\t: 0.9565572979921427\n",
            "R2 Score\t\t: 0.9880262829561169\n",
            "MAE\t\t\t: 0.6003277485913563\n",
            "MAPE\t\t\t: 1.293403394079131\n",
            "   Modified Model 2 GridSCV Evaluation\n",
            "============================================\n",
            "RMSE\t\t\t: 0.9865935283627274\n",
            "R2 Score\t\t: 0.9872625193673952\n",
            "MAE\t\t\t: 0.5957352269994144\n",
            "MAPE\t\t\t: 1.2743013611176233\n"
          ]
        }
      ],
      "source": [
        "print(\"============================================\")\n",
        "print(\"\\t\\t EVALUATION\")\n",
        "print(\"============================================\")\n",
        "print(\"\\n\")\n",
        "print(\"\\t Baseline Model Evaluation\")\n",
        "print(\"============================================\")\n",
        "print(\"RMSE\\t\\t\\t:\", rmse_baseline)\n",
        "print(\"R2 Score\\t\\t:\", r2_baseline)\n",
        "print(\"MAE\\t\\t\\t:\", mae_baseline)\n",
        "print(\"MAPE\\t\\t\\t:\", mape_baseline)\n",
        "\n",
        "\n",
        "print(\"\\t Modified Model 1 Evaluation\")\n",
        "print(\"============================================\")\n",
        "print(\"RMSE\\t\\t\\t:\", rmse_Mod1)\n",
        "print(\"R2 Score\\t\\t:\", r2_Mod1)\n",
        "print(\"MAE\\t\\t\\t:\", mae_Mod1)\n",
        "print(\"MAPE\\t\\t\\t:\", mape_Mod1)\n",
        "\n",
        "\n",
        "print(\"   Modified Model 2 GridSCV Evaluation\")\n",
        "print(\"============================================\")\n",
        "print(\"RMSE\\t\\t\\t:\", rmseMod2)\n",
        "print(\"R2 Score\\t\\t:\", r2Mod2)\n",
        "print(\"MAE\\t\\t\\t:\", maeMod2)\n",
        "print(\"MAPE\\t\\t\\t:\", mapeMod2)"
      ]
    },
    {
      "cell_type": "markdown",
      "metadata": {
        "id": "Rr_uNUHjEUWq"
      },
      "source": [
        "Terdapat perbedaan yang signifikan antara performa model dasar (baseline model) dan model yang dimodifikasi. Performa model yang dimodifikasi lebih baik dalam beberapa aspek evaluasi seperti RMSE, R2 Score, MAE, dan MAPE. Nilai-nilai performa yang lebih kecil pada model yang dimodifikasi menunjukkan peningkatan yang signifikan dalam akurasi prediksi dan kemampuan penjelasan. <br>\n",
        "\n",
        "Dalam hal RMSE, model yang dimodifikasi menghasilkan nilai yang lebih kecil dibandingkan dengan baseline model. Hal ini menunjukkan bahwa model yang dimodifikasi memiliki kesalahan prediksi yang lebih rendah dan mampu memperkirakan harga saham INTC dengan lebih akurat. Model tersebut mampu memberikan prediksi yang lebih dekat dengan nilai aktual, sehingga meminimalkan kesalahan dalam estimasi harga saham INTC.<br>\n",
        "\n",
        "Selanjutnya, R2 Score yang mendekati 1 pada model yang dimodifikasi menunjukkan bahwa model tersebut dapat menjelaskan sebagian besar variasi dalam data harga saham INTC. Model yang dimodifikasi mampu menangkap pola dan tren dalam data dengan lebih baik, sehingga memiliki kemampuan yang lebih baik dalam memberikan penjelasan atas variasi yang ada.<br>\n",
        "\n",
        "Selain itu, nilai MAE yang lebih kecil pada model yang dimodifikasi menunjukkan bahwa model tersebut memiliki kesalahan prediksi yang lebih rendah secara keseluruhan. Model yang dimodifikasi memberikan estimasi harga saham INTC dengan tingkat kesalahan yang lebih rendah dibandingkan dengan baseline model, tanpa mempertimbangkan arah kesalahan.<br>\n",
        "\n",
        "Terakhir, nilai MAPE yang lebih kecil pada model yang dimodifikasi menunjukkan bahwa model tersebut memiliki tingkat kesalahan yang lebih rendah dalam memprediksi persentase perubahan harga saham INTC. Model tersebut memberikan prediksi yang lebih akurat dalam memperkirakan persentase perubahan harga saham, sehingga bermanfaat bagi para pemangku kepentingan yang memerlukan informasi tentang pergerakan harga saham.<br>\n",
        "\n",
        "========================================== <br>\n",
        "Dari hasil evaluasi performa model, dapat ditarik kesimpulan dan analisis yang mendalam sebagai berikut:\n",
        "\n",
        "1. **Baseline Model**: Baseline model menunjukkan kinerja yang buruk dalam memprediksi harga saham INTC. Dalam hal RMSE, nilai yang tinggi (44.85) menunjukkan bahwa model memiliki kesalahan prediksi yang besar. R2 Score yang negatif (-25.33) menunjukkan bahwa model tidak mampu menjelaskan variasi dalam data dengan baik. MAE yang tinggi (44.02) dan MAPE yang mencapai 98.67% juga menunjukkan tingkat kesalahan yang signifikan dalam memprediksi harga saham INTC.\n",
        "\n",
        "2. **Modified Model 1**: Model yang dimodifikasi 1 menunjukkan peningkatan yang signifikan dalam performa dibandingkan dengan baseline model. RMSE yang rendah (0.96) menunjukkan kesalahan prediksi yang lebih kecil, dan R2 Score yang mendekati 1 (0.99) menunjukkan kemampuan yang baik dalam menjelaskan variasi dalam data. MAE yang rendah (0.60) dan MAPE yang relatif kecil (1.29%) menunjukkan kesalahan prediksi yang rendah dan akurasi yang lebih baik dalam memprediksi harga sahamINTC.\n",
        "\n",
        "3. **Modified Model 2 (GridSCV)**: Model yang dimodifikasi 2 dengan menggunakan GridSearchCV untuk pemilihan hyperparameter juga menunjukkan hasil yang baik. Nilai RMSE yang sedikit lebih tinggi (0.99) dibandingkan dengan Model 1, namun masih tetap rendah. R2 Score yang tinggi (0.99) menunjukkan kemampuan yang baik dalam menjelaskan variasi dalam data. MAE yang rendah (0.60) dan MAPE yang relatif kecil (1.27%) juga menunjukkan kesalahan prediksi yang rendah dan akurasi yang baik dalam memprediksi harga saham INTC.\n",
        "\n",
        "Analisis mendalam terhadap hasil ini menunjukkan bahwa model yang dimodifikasi, baik Model 1 maupun Model 2 dengan GridSearchCV, berhasil meningkatkan performa dibandingkan dengan baseline model. Hasil yang lebih baik ini dapat dikaitkan dengan perubahan arsitektur model atau optimasi hyperparameter yang dilakukan.\n",
        "\n",
        "Model yang dimodifikasi mampu menghasilkan prediksi harga saham INTC dengan kesalahan/loss yang lebih rendah, menjelaskan variasi dalam data dengan baik, dan memberikan estimasi yang lebih akurat.\n",
        "\n",
        "Secara keseluruhan, hasil evaluasi menunjukkan bahwa model yang dimodifikasi memiliki performa yang lebih baik dalam memprediksi harga saham INTC."
      ]
    }
  ],
  "metadata": {
    "accelerator": "GPU",
    "colab": {
      "gpuType": "T4",
      "provenance": []
    },
    "kernelspec": {
      "display_name": "Python 3",
      "name": "python3"
    },
    "language_info": {
      "name": "python"
    }
  },
  "nbformat": 4,
  "nbformat_minor": 0
}
